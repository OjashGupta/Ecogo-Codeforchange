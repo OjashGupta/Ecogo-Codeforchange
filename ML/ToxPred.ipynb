{
  "nbformat": 4,
  "nbformat_minor": 0,
  "metadata": {
    "colab": {
      "provenance": [],
      "collapsed_sections": [
        "-ArEtSJMu_oE",
        "M-nkGF-FvEDU",
        "ooAxs-6Evam3",
        "G5OQ66VKOLz3"
      ]
    },
    "kernelspec": {
      "name": "python3",
      "display_name": "Python 3"
    },
    "language_info": {
      "name": "python"
    }
  },
  "cells": [
    {
      "cell_type": "markdown",
      "source": [
        "## 12 Tasks available in the tox21 dataset and their implications on cells"
      ],
      "metadata": {
        "id": "hrV6DKiJqZWw"
      }
    },
    {
      "cell_type": "markdown",
      "source": [
        "[Link to the Dataset](https://paperswithcode.com/dataset/tox21-1)\n",
        "\n",
        "**NR-AR:** This task measures the ability of a chemical to activate \n",
        "the androgen receptor, a nuclear hormone receptor involved in regulating male sexual development.\n",
        "\n",
        "**NR-AR-LBD:** This task measures the ability of a chemical to activate the ligand-binding domain of the androgen receptor.\n",
        "\n",
        "**NR-AhR:** This task measures the ability of a chemical to activate the aryl hydrocarbon receptor, a nuclear hormone receptor involved in regulating the metabolism of xenobiotics.\n",
        "\n",
        "**NR-Aromatase:** This task measures the ability of a chemical to inhibit aromatase, an enzyme involved in the biosynthesis of estrogen.\n",
        "\n",
        "**NR-ER**: This task measures the ability of a chemical to activate the estrogen receptor, a nuclear hormone receptor involved in regulating female sexual development.\n",
        "\n",
        "**NR-ER-LBD:** This task measures the ability of a chemical to activate the ligand-binding domain of the estrogen receptor.\n",
        "\n",
        "**NR-PPAR-gamma:** This task measures the ability of a chemical to activate peroxisome proliferator-activated receptor gamma, a nuclear hormone receptor involved in regulating glucose and lipid metabolism.\n",
        "\n",
        "**SR-ARE:** **bold text** This task measures the ability of a chemical to activate the antioxidant response element, a transcription factor involved in regulating cellular oxidative stress.\n",
        "\n",
        "**SR-ATAD5:** This task measures the ability of a chemical to inhibit ATAD5, a protein involved in DNA repair and cell cycle control.\n",
        "\n",
        "**SR-HSE:** This task measures the ability of a chemical to activate the heat shock response element, a transcription factor involved in regulating cellular stress response.\n",
        "\n",
        "**SR-MMP:** This task measures the ability of a chemical to inhibit matrix metalloproteinases, a family of enzymes involved in tissue remodeling and repair.\n",
        "\n",
        "**SR-p53:** This task measures the ability of a chemical to activate the p53 tumor suppressor protein, a transcription factor involved in regulating cell cycle arrest and apoptosis.\n"
      ],
      "metadata": {
        "id": "yoN60-GMptM2"
      }
    },
    {
      "cell_type": "markdown",
      "source": [
        "## Installing dependencies"
      ],
      "metadata": {
        "id": "rPv-WKqBqIaO"
      }
    },
    {
      "cell_type": "code",
      "source": [
        "!pip install deepchem"
      ],
      "metadata": {
        "colab": {
          "base_uri": "https://localhost:8080/"
        },
        "id": "iNqZHmUJlQ55",
        "outputId": "a92edf1c-bebd-44e7-bcac-a493dcb6695d"
      },
      "execution_count": null,
      "outputs": [
        {
          "output_type": "stream",
          "name": "stdout",
          "text": [
            "Looking in indexes: https://pypi.org/simple, https://us-python.pkg.dev/colab-wheels/public/simple/\n",
            "Collecting deepchem\n",
            "  Downloading deepchem-2.7.1-py3-none-any.whl (693 kB)\n",
            "\u001b[2K     \u001b[90m━━━━━━━━━━━━━━━━━━━━━━━━━━━━━━━━━━━━━━\u001b[0m \u001b[32m693.2/693.2 KB\u001b[0m \u001b[31m10.9 MB/s\u001b[0m eta \u001b[36m0:00:00\u001b[0m\n",
            "\u001b[?25hRequirement already satisfied: scikit-learn in /usr/local/lib/python3.8/dist-packages (from deepchem) (1.2.1)\n",
            "Collecting scipy<1.9\n",
            "  Downloading scipy-1.8.1-cp38-cp38-manylinux_2_17_x86_64.manylinux2014_x86_64.whl (41.6 MB)\n",
            "\u001b[2K     \u001b[90m━━━━━━━━━━━━━━━━━━━━━━━━━━━━━━━━━━━━━━━━\u001b[0m \u001b[32m41.6/41.6 MB\u001b[0m \u001b[31m18.6 MB/s\u001b[0m eta \u001b[36m0:00:00\u001b[0m\n",
            "\u001b[?25hRequirement already satisfied: joblib in /usr/local/lib/python3.8/dist-packages (from deepchem) (1.2.0)\n",
            "Requirement already satisfied: pandas in /usr/local/lib/python3.8/dist-packages (from deepchem) (1.3.5)\n",
            "Collecting rdkit\n",
            "  Downloading rdkit-2022.9.5-cp38-cp38-manylinux_2_17_x86_64.manylinux2014_x86_64.whl (29.4 MB)\n",
            "\u001b[2K     \u001b[90m━━━━━━━━━━━━━━━━━━━━━━━━━━━━━━━━━━━━━━━━\u001b[0m \u001b[32m29.4/29.4 MB\u001b[0m \u001b[31m33.3 MB/s\u001b[0m eta \u001b[36m0:00:00\u001b[0m\n",
            "\u001b[?25hRequirement already satisfied: numpy>=1.21 in /usr/local/lib/python3.8/dist-packages (from deepchem) (1.22.4)\n",
            "Requirement already satisfied: pytz>=2017.3 in /usr/local/lib/python3.8/dist-packages (from pandas->deepchem) (2022.7.1)\n",
            "Requirement already satisfied: python-dateutil>=2.7.3 in /usr/local/lib/python3.8/dist-packages (from pandas->deepchem) (2.8.2)\n",
            "Requirement already satisfied: Pillow in /usr/local/lib/python3.8/dist-packages (from rdkit->deepchem) (8.4.0)\n",
            "Requirement already satisfied: threadpoolctl>=2.0.0 in /usr/local/lib/python3.8/dist-packages (from scikit-learn->deepchem) (3.1.0)\n",
            "Requirement already satisfied: six>=1.5 in /usr/local/lib/python3.8/dist-packages (from python-dateutil>=2.7.3->pandas->deepchem) (1.15.0)\n",
            "Installing collected packages: scipy, rdkit, deepchem\n",
            "  Attempting uninstall: scipy\n",
            "    Found existing installation: scipy 1.10.1\n",
            "    Uninstalling scipy-1.10.1:\n",
            "      Successfully uninstalled scipy-1.10.1\n",
            "Successfully installed deepchem-2.7.1 rdkit-2022.9.5 scipy-1.8.1\n"
          ]
        }
      ]
    },
    {
      "cell_type": "code",
      "source": [
        "!pip install pubchempy"
      ],
      "metadata": {
        "colab": {
          "base_uri": "https://localhost:8080/"
        },
        "id": "d1IcF9g0meTA",
        "outputId": "65577cfd-2dc9-4239-d7b0-f098b7670691"
      },
      "execution_count": null,
      "outputs": [
        {
          "output_type": "stream",
          "name": "stdout",
          "text": [
            "Looking in indexes: https://pypi.org/simple, https://us-python.pkg.dev/colab-wheels/public/simple/\n",
            "Collecting pubchempy\n",
            "  Downloading PubChemPy-1.0.4.tar.gz (29 kB)\n",
            "  Preparing metadata (setup.py) ... \u001b[?25l\u001b[?25hdone\n",
            "Building wheels for collected packages: pubchempy\n",
            "  Building wheel for pubchempy (setup.py) ... \u001b[?25l\u001b[?25hdone\n",
            "  Created wheel for pubchempy: filename=PubChemPy-1.0.4-py3-none-any.whl size=13834 sha256=4421c83ce7f092d5de23ec2fed21ddee1f57bf61e1b430b664740077a0010da5\n",
            "  Stored in directory: /root/.cache/pip/wheels/b0/8c/ba/3b00b89931153bf5a4eaa8e73bd1b0319a879cc45175326854\n",
            "Successfully built pubchempy\n",
            "Installing collected packages: pubchempy\n",
            "Successfully installed pubchempy-1.0.4\n"
          ]
        }
      ]
    },
    {
      "cell_type": "markdown",
      "source": [
        "## Training DeepChem on Tox21"
      ],
      "metadata": {
        "id": "kQNRKM3yqMy2"
      }
    },
    {
      "cell_type": "code",
      "execution_count": null,
      "metadata": {
        "colab": {
          "base_uri": "https://localhost:8080/"
        },
        "id": "k9LS-oUqk_Qx",
        "outputId": "3361c5ba-972a-4d6c-cf2d-22a5a1f570e1"
      },
      "outputs": [
        {
          "output_type": "stream",
          "name": "stderr",
          "text": [
            "WARNING:deepchem.models.torch_models:Skipped loading modules with pytorch-geometric dependency, missing a dependency. No module named 'torch_geometric'\n",
            "WARNING:deepchem.models:Skipped loading modules with pytorch-geometric dependency, missing a dependency. cannot import name 'DMPNN' from 'deepchem.models.torch_models' (/usr/local/lib/python3.8/dist-packages/deepchem/models/torch_models/__init__.py)\n",
            "WARNING:deepchem.models:Skipped loading modules with pytorch-lightning dependency, missing a dependency. No module named 'pytorch_lightning'\n",
            "WARNING:deepchem.models:Skipped loading some Jax models, missing a dependency. No module named 'haiku'\n",
            "[09:47:27] WARNING: not removing hydrogen atom without neighbors\n",
            "[09:48:00] WARNING: not removing hydrogen atom without neighbors\n"
          ]
        }
      ],
      "source": [
        "import deepchem as dc\n",
        "\n",
        "tox21_tasks, tox21_datasets, transformers = dc.molnet.load_tox21(featurizer='GraphConv')\n",
        "train_dataset, valid_dataset, test_dataset = tox21_datasets\n",
        "\n",
        "model = dc.models.GraphConvModel(n_tasks=len(tox21_tasks), mode='classification', dropout=0.2)"
      ]
    },
    {
      "cell_type": "code",
      "source": [
        "print('Number of training samples:', len(train_dataset))\n",
        "print('Number of test samples:', len(test_dataset))\n",
        "print('Number of features:', train_dataset.get_data_shape())\n",
        "print('Number of tasks:', len(tox21_tasks))\n",
        "print('Task names:', tox21_tasks)\n",
        "print('Toxicity distribution in the training set:', train_dataset.y.mean(axis=0))\n",
        "print('Toxicity distribution in the test set:', test_dataset.y.mean(axis=0))"
      ],
      "metadata": {
        "colab": {
          "base_uri": "https://localhost:8080/"
        },
        "id": "DbFqYwDLlz1Z",
        "outputId": "19ca5027-c921-4039-f38e-b892985dd9f2"
      },
      "execution_count": null,
      "outputs": [
        {
          "output_type": "stream",
          "name": "stdout",
          "text": [
            "Number of training samples: 6264\n",
            "Number of test samples: 784\n",
            "Number of features: ()\n",
            "Number of tasks: 12\n",
            "Task names: ['NR-AR', 'NR-AR-LBD', 'NR-AhR', 'NR-Aromatase', 'NR-ER', 'NR-ER-LBD', 'NR-PPAR-gamma', 'SR-ARE', 'SR-ATAD5', 'SR-HSE', 'SR-MMP', 'SR-p53']\n",
            "Toxicity distribution in the training set: [0.04007024 0.03081098 0.09402937 0.03320562 0.10344828 0.04789272\n",
            " 0.0210728  0.11462324 0.03128991 0.04485951 0.11350575 0.0440613 ]\n",
            "Toxicity distribution in the test set: [0.03443878 0.02423469 0.11734694 0.05994898 0.08928571 0.02678571\n",
            " 0.02806122 0.1505102  0.04209184 0.05994898 0.12244898 0.09183673]\n"
          ]
        }
      ]
    },
    {
      "cell_type": "code",
      "source": [
        "model.fit(train_dataset, nb_epoch=50)"
      ],
      "metadata": {
        "colab": {
          "base_uri": "https://localhost:8080/"
        },
        "id": "MSgMXOcclJB4",
        "outputId": "6994c92f-7348-4f5e-f9fc-ca26287834e0"
      },
      "execution_count": null,
      "outputs": [
        {
          "output_type": "execute_result",
          "data": {
            "text/plain": [
              "0.60320068359375"
            ]
          },
          "metadata": {},
          "execution_count": 4
        }
      ]
    },
    {
      "cell_type": "code",
      "source": [
        "metric = dc.metrics.Metric(dc.metrics.roc_auc_score)\n",
        "print('Test set ROC AUC:', model.evaluate(test_dataset, [metric], transformers)['roc_auc_score'])"
      ],
      "metadata": {
        "colab": {
          "base_uri": "https://localhost:8080/"
        },
        "id": "n8VePnrelLvx",
        "outputId": "17da3863-3be9-494f-d3f2-2ba2c10ac77f"
      },
      "execution_count": null,
      "outputs": [
        {
          "output_type": "stream",
          "name": "stdout",
          "text": [
            "Test set ROC AUC: 0.6982155567135009\n"
          ]
        }
      ]
    },
    {
      "cell_type": "markdown",
      "source": [
        "## Testing on a single ingredient"
      ],
      "metadata": {
        "id": "eFE9qIpvqRVZ"
      }
    },
    {
      "cell_type": "code",
      "source": [
        "import pubchempy as pcp\n",
        "import numpy as np\n",
        "import pandas as pd\n",
        "from rdkit import Chem"
      ],
      "metadata": {
        "id": "5IhtjT0cmaYB"
      },
      "execution_count": null,
      "outputs": []
    },
    {
      "cell_type": "code",
      "source": [
        "ingredient_name = 'water'\n",
        "result = pcp.get_compounds(ingredient_name, 'name')[0]\n",
        "compund = Chem.MolFromSmiles(result.canonical_smiles)\n",
        "print('CID:', result.cid)\n",
        "print('Name:', result.iupac_name)\n",
        "print('SMILES:', result.canonical_smiles)"
      ],
      "metadata": {
        "colab": {
          "base_uri": "https://localhost:8080/"
        },
        "id": "A3LfEwqLmc4q",
        "outputId": "6950bf85-2bd1-4ab0-bb5a-9ac4e7b822ca"
      },
      "execution_count": null,
      "outputs": [
        {
          "output_type": "stream",
          "name": "stdout",
          "text": [
            "CID: 962\n",
            "Name: oxidane\n",
            "SMILES: O\n"
          ]
        }
      ]
    },
    {
      "cell_type": "code",
      "source": [
        "molecule = Chem.MolFromSmiles(result.canonical_smiles)\n",
        "featurizer = dc.feat.graph_features.ConvMolFeaturizer()\n",
        "features = featurizer([molecule])\n",
        "toxicity = model.predict_on_batch(np.array(features))"
      ],
      "metadata": {
        "id": "nCpojwQPm0LK"
      },
      "execution_count": null,
      "outputs": []
    },
    {
      "cell_type": "code",
      "source": [
        "print(\"Toxicity:\", toxicity.mean(axis=1)[0][0] * 100)"
      ],
      "metadata": {
        "colab": {
          "base_uri": "https://localhost:8080/"
        },
        "id": "_bqAtGnUnSEQ",
        "outputId": "6c64fb7e-fb8e-4f93-e849-6c0e47116420"
      },
      "execution_count": null,
      "outputs": [
        {
          "output_type": "stream",
          "name": "stdout",
          "text": [
            "Toxicity: 58.28824043273926\n"
          ]
        }
      ]
    },
    {
      "cell_type": "markdown",
      "source": [
        "## Experimentation"
      ],
      "metadata": {
        "id": "1l1Tt8LFr2ar"
      }
    },
    {
      "cell_type": "markdown",
      "source": [
        "### References:\n",
        "1. Huang, R., Xia, M., Nguyen, D.T., Zhao, T., Sakamuru, S., Zhao, J., Shahane, S.A., Rossoshek, A., Zhu, H., Austin, C.P., et al. (2016). Tox21 Challenge to Build Predictive Models of Nuclear Receptor and Stress Response Pathways as Mediated by Exposure to Environmental Chemicals and Drugs. Front Environ Sci 3, 85. \n",
        "https://doi.org/10.3389/fenvs.2015.00085\n",
        "\n",
        "2. Ruuskanen, J., & Michelsen, O. (2020). Machine learning in ecotoxicology: predictions of acute toxicity towards aquatic organisms. Environmental Science: Processes & Impacts, 22(9), 1929-1943. https://doi.org/10.1039/D0EM00207F\n",
        "\n",
        "3. Fourches, D., Muratov, E., Tropsha, A. (2015). Trust, but verify: On the importance of chemical structure curation in cheminformatics and QSAR modeling research. Journal of Chemical Information and Modeling, 55(10), 1894-1901. https://doi.org/10.1021/acs.jcim.5b00227"
      ],
      "metadata": {
        "id": "Ys8GkLSlCOA-"
      }
    },
    {
      "cell_type": "markdown",
      "source": [
        "### Aquatic\n",
        "NR_Aromatase, NR_ER, NR_ER_LBD, and NR_PPAR_gamma are nuclear receptor targets that are known to be important for the endocrine system of aquatic organisms. SR_ARE is a target for antioxidant response elements, which are important for the response of organisms to oxidative stress. SR_ATAD5 is a target for DNA repair, which is important for maintaining genomic stability in aquatic organisms. SR_HSE is a target for the heat shock response, which is important for the response of organisms to thermal stress. SR_MMP is a target for matrix metalloproteinases, which are important for the breakdown of extracellular matrix components in aquatic organisms."
      ],
      "metadata": {
        "id": "-ArEtSJMu_oE"
      }
    },
    {
      "cell_type": "code",
      "source": [
        "aquatic_task = ['NR_Aromatase', 'NR_ER', 'NR_ER_LBD', 'NR_PPAR_gamma', 'SR_ARE', 'SR_ATAD5', 'SR_HSE', 'SR_MMP']"
      ],
      "metadata": {
        "id": "vvO-Z705r1hp"
      },
      "execution_count": null,
      "outputs": []
    },
    {
      "cell_type": "markdown",
      "source": [
        "### Environment\n",
        "Tasks related to androgen and mineralocorticoid receptor are excluded since these receptors are primarily involved in regulating physiological functions in humans rather than environmental toxicity.\n",
        "\n",
        "**NR_Aromatase:** This enzyme is involved in the production of estrogens, which are important hormones for both plants and animals.\n",
        "\n",
        "**NR_ER:** This receptor is activated by estrogens, and it plays a role in a variety of biological processes, including cell growth, differentiation, and apoptosis.\n",
        "\n",
        "**NR_ER_LBD:** This is a ligand-binding domain of the ER receptor, and it is involved in the regulation of gene expression.\n",
        "\n",
        "**NR_PPAR_gamma:** This receptor is activated by fatty acids, and it plays a role in the regulation of metabolism, inflammation, and cell growth.\n",
        "\n",
        "**SR_ARE:** This is a short-repeat element that is involved in the regulation of genes that are involved in the response to stress.\n",
        "\n",
        "**SR_ATAD5:** This protein is involved in DNA repair, and it is important for maintaining genomic stability.\n",
        "\n",
        "**SR_HSE:** This protein is involved in the heat shock response, and it is important for the response of organisms to thermal stress.\n",
        "\n",
        "**SR_MMP:** These enzymes are involved in the breakdown of extracellular matrix components, and they are important for a variety of biological processes, including cell migration, wound healing, and bone remodeling.\n",
        "\n",
        "\n",
        "The disruption of any of these processes can have a negative impact on soil and land. For example, the disruption of the ER pathway can lead to an increase in the growth of weeds and invasive plants. The disruption of the PPAR_gamma pathway can lead to an increase in the production of reactive oxygen species, which can damage soil and plant tissues. The disruption of the ARE pathway can lead to an increase in the susceptibility of plants to stress. The disruption of the ATAD5 pathway can lead to an increase in the mutation rate, which can lead to the development of genetic diseases. The disruption of the HSE pathway can lead to an increase in the susceptibility of plants to heat stress. The disruption of the MMP pathway can lead to an increase in the erosion of soil and the degradation of plant tissues."
      ],
      "metadata": {
        "id": "M-nkGF-FvEDU"
      }
    },
    {
      "cell_type": "code",
      "source": [
        "environment_task = ['NR_Aromatase', 'NR_ER', 'NR_ER_LBD', 'NR_PPAR_gamma', 'SR_ARE', 'SR_ATAD5', 'SR_HSE', 'SR_MMP']"
      ],
      "metadata": {
        "id": "Kvc2S2HXr6Co"
      },
      "execution_count": null,
      "outputs": []
    },
    {
      "cell_type": "markdown",
      "source": [
        "### Human\n",
        "Androgen and mineralocorticoid receptors"
      ],
      "metadata": {
        "id": "ooAxs-6Evam3"
      }
    },
    {
      "cell_type": "code",
      "source": [
        "human_task = ['NR-AR', 'NR-AR-LBD', 'NR-Aromatase', 'NR-ER', 'NR-ER-LBD', 'NR-PPAR-gamma', 'SR-ARE', 'SR-ATAD5', 'SR-HSE', 'SR-MMP']"
      ],
      "metadata": {
        "id": "qxs-eGqyskEY"
      },
      "execution_count": null,
      "outputs": []
    },
    {
      "cell_type": "markdown",
      "source": [
        "### Testing for 1 ingredient"
      ],
      "metadata": {
        "id": "G5OQ66VKOLz3"
      }
    },
    {
      "cell_type": "code",
      "source": [
        "import deepchem as dc\n",
        "from deepchem.models import GraphConvModel\n",
        "import pubchempy as pcp\n",
        "import numpy as np\n",
        "import pandas as pd\n",
        "from rdkit import Chem"
      ],
      "metadata": {
        "id": "nN8I7p9vDtoN"
      },
      "execution_count": null,
      "outputs": []
    },
    {
      "cell_type": "code",
      "source": [
        "ingredient_name = 'sodium lauryl sulphate'\n",
        "result = pcp.get_compounds(ingredient_name, 'name')[0]\n",
        "compound = Chem.MolFromSmiles(result.canonical_smiles)"
      ],
      "metadata": {
        "id": "KcHm6X5rKe_x"
      },
      "execution_count": null,
      "outputs": []
    },
    {
      "cell_type": "code",
      "source": [
        "tox21_tasks, tox21_datasets, transformers = dc.molnet.load_tox21(featurizer='GraphConv')\n",
        "train_dataset, valid_dataset, test_dataset = tox21_datasets\n",
        "model = GraphConvModel(len(tox21_tasks), mode='classification')\n",
        "model.fit(train_dataset, nb_epoch=50)"
      ],
      "metadata": {
        "colab": {
          "base_uri": "https://localhost:8080/"
        },
        "id": "GE1tosYWDt1g",
        "outputId": "c63fde01-92a3-4468-84ab-39bb00070502"
      },
      "execution_count": null,
      "outputs": [
        {
          "output_type": "stream",
          "name": "stderr",
          "text": [
            "WARNING:deepchem.models.torch_models:Skipped loading modules with pytorch-geometric dependency, missing a dependency. No module named 'torch_geometric'\n",
            "WARNING:deepchem.models:Skipped loading modules with pytorch-geometric dependency, missing a dependency. cannot import name 'DMPNN' from 'deepchem.models.torch_models' (/usr/local/lib/python3.8/dist-packages/deepchem/models/torch_models/__init__.py)\n",
            "WARNING:deepchem.models:Skipped loading modules with pytorch-lightning dependency, missing a dependency. No module named 'pytorch_lightning'\n",
            "WARNING:deepchem.models:Skipped loading some Jax models, missing a dependency. No module named 'haiku'\n"
          ]
        },
        {
          "output_type": "execute_result",
          "data": {
            "text/plain": [
              "0.28897264480590823"
            ]
          },
          "metadata": {},
          "execution_count": 8
        }
      ]
    },
    {
      "cell_type": "code",
      "source": [
        "metric = dc.metrics.Metric(dc.metrics.roc_auc_score)\n",
        "print('Test set ROC AUC:', model.evaluate(test_dataset, [metric], transformers)['roc_auc_score'])"
      ],
      "metadata": {
        "colab": {
          "base_uri": "https://localhost:8080/"
        },
        "id": "GzN8U0O6GALO",
        "outputId": "d8b24f70-449b-41fc-84c7-6f195d9701e5"
      },
      "execution_count": null,
      "outputs": [
        {
          "output_type": "stream",
          "name": "stdout",
          "text": [
            "Test set ROC AUC: 0.7121732398362588\n"
          ]
        }
      ]
    },
    {
      "cell_type": "code",
      "source": [
        "def predict_toxicity(compound):\n",
        "    featurizer = dc.feat.graph_features.ConvMolFeaturizer()\n",
        "    features = featurizer([compound])\n",
        "    environment_preds = model.predict_on_batch(features)[0][environment_task_indices]\n",
        "    aquatic_preds = model.predict_on_batch(features)[0][aquatic_task_indices]\n",
        "    human_preds = model.predict_on_batch(features)[0][human_task_indices]\n",
        "    return environment_preds, aquatic_preds, human_preds"
      ],
      "metadata": {
        "id": "a0AFR6Z2D_r7"
      },
      "execution_count": null,
      "outputs": []
    },
    {
      "cell_type": "code",
      "source": [
        "print('Task names:', tox21_tasks)"
      ],
      "metadata": {
        "colab": {
          "base_uri": "https://localhost:8080/"
        },
        "id": "DHa7glxvGNSb",
        "outputId": "b7b05a9b-7c22-4341-844a-fe718df48cb7"
      },
      "execution_count": null,
      "outputs": [
        {
          "output_type": "stream",
          "name": "stdout",
          "text": [
            "Task names: ['NR-AR', 'NR-AR-LBD', 'NR-AhR', 'NR-Aromatase', 'NR-ER', 'NR-ER-LBD', 'NR-PPAR-gamma', 'SR-ARE', 'SR-ATAD5', 'SR-HSE', 'SR-MMP', 'SR-p53']\n"
          ]
        }
      ]
    },
    {
      "cell_type": "code",
      "source": [
        "human_task = ['NR-AR', 'NR-AR-LBD', 'NR-Aromatase', 'NR-ER', 'NR-ER-LBD']\n",
        "environment_task = ['NR-AhR', 'NR-PPAR-gamma', 'SR-ARE', 'SR-ATAD5', 'SR-HSE', 'SR-MMP', 'SR-p53']\n",
        "aquatic_task = ['NR-Aromatase', 'NR-ER', 'NR-ER-LBD', 'NR-PPAR-gamma', 'SR-ARE', 'SR-ATAD5', 'SR-HSE', 'SR-MMP']"
      ],
      "metadata": {
        "id": "MiVB_L1gGRb1"
      },
      "execution_count": null,
      "outputs": []
    },
    {
      "cell_type": "code",
      "source": [
        "environment_task_indices = [tox21_tasks.index(task) for task in environment_task]\n",
        "aquatic_task_indices = [tox21_tasks.index(task) for task in aquatic_task]\n",
        "human_task_indices = [tox21_tasks.index(task) for task in human_task]"
      ],
      "metadata": {
        "id": "piOb6K3JE9oY"
      },
      "execution_count": null,
      "outputs": []
    },
    {
      "cell_type": "code",
      "source": [
        "environment_preds, aquatic_preds, human_preds = predict_toxicity(compound)\n",
        "print('Environment toxicity predictions:', environment_preds)\n",
        "print('Aquatic toxicity predictions:', aquatic_preds)\n",
        "print('Human toxicity predictions:', human_preds)"
      ],
      "metadata": {
        "colab": {
          "base_uri": "https://localhost:8080/"
        },
        "id": "hIOeIddAFnKA",
        "outputId": "b077deea-7787-4544-8615-131f89bea726"
      },
      "execution_count": null,
      "outputs": [
        {
          "output_type": "stream",
          "name": "stdout",
          "text": [
            "Environment toxicity predictions: [[9.7210050e-01 2.7899554e-02]\n",
            " [9.9986506e-01 1.3510328e-04]\n",
            " [9.8973483e-01 1.0265206e-02]\n",
            " [9.9742776e-01 2.5722699e-03]\n",
            " [9.8038578e-01 1.9614194e-02]\n",
            " [9.9314499e-01 6.8550431e-03]\n",
            " [9.9979335e-01 2.0664126e-04]]\n",
            "Aquatic toxicity predictions: [[9.9078655e-01 9.2133377e-03]\n",
            " [9.9559152e-01 4.4085332e-03]\n",
            " [9.9901003e-01 9.8994607e-04]\n",
            " [9.9986506e-01 1.3510328e-04]\n",
            " [9.8973483e-01 1.0265206e-02]\n",
            " [9.9742776e-01 2.5722699e-03]\n",
            " [9.8038578e-01 1.9614194e-02]\n",
            " [9.9314499e-01 6.8550431e-03]]\n",
            "Human toxicity predictions: [[9.9822330e-01 1.7767993e-03]\n",
            " [9.9944508e-01 5.5490050e-04]\n",
            " [9.9078655e-01 9.2133377e-03]\n",
            " [9.9559152e-01 4.4085332e-03]\n",
            " [9.9901003e-01 9.8994607e-04]]\n"
          ]
        }
      ]
    },
    {
      "cell_type": "code",
      "source": [
        "environment_preds.mean(axis=0)"
      ],
      "metadata": {
        "colab": {
          "base_uri": "https://localhost:8080/"
        },
        "id": "jptpd3aLGvew",
        "outputId": "8f422949-f326-40c2-ab3e-7a66db560db0"
      },
      "execution_count": null,
      "outputs": [
        {
          "output_type": "execute_result",
          "data": {
            "text/plain": [
              "array([0.99035037, 0.00964972], dtype=float32)"
            ]
          },
          "metadata": {},
          "execution_count": 55
        }
      ]
    },
    {
      "cell_type": "code",
      "source": [
        "human_preds.mean(axis=0)"
      ],
      "metadata": {
        "colab": {
          "base_uri": "https://localhost:8080/"
        },
        "id": "lcA1L56CKA6_",
        "outputId": "6661b1b2-5734-429b-d367-c4eb7c274e2c"
      },
      "execution_count": null,
      "outputs": [
        {
          "output_type": "execute_result",
          "data": {
            "text/plain": [
              "array([0.9966113, 0.0033887], dtype=float32)"
            ]
          },
          "metadata": {},
          "execution_count": 56
        }
      ]
    },
    {
      "cell_type": "code",
      "source": [
        "aquatic_preds.mean(axis=0)"
      ],
      "metadata": {
        "colab": {
          "base_uri": "https://localhost:8080/"
        },
        "id": "bqxtYgXLKHjg",
        "outputId": "0f525107-80f5-4465-d27b-e818b3f96a1b"
      },
      "execution_count": null,
      "outputs": [
        {
          "output_type": "execute_result",
          "data": {
            "text/plain": [
              "array([0.99324334, 0.0067567 ], dtype=float32)"
            ]
          },
          "metadata": {},
          "execution_count": 57
        }
      ]
    },
    {
      "cell_type": "markdown",
      "source": [
        "### Testing for a product"
      ],
      "metadata": {
        "id": "29QUmPVvOSo2"
      }
    },
    {
      "cell_type": "code",
      "source": [
        "import requests, json\n",
        "\n",
        "def get_compound_url(compound_name):\n",
        "    # fetch PubChem CID for the given compound name\n",
        "    url = f\"https://pubchem.ncbi.nlm.nih.gov/rest/pug/compound/name/{compound_name}/cids/JSON\"\n",
        "    response = requests.get(url)\n",
        "    if response.status_code == 200:\n",
        "        data = json.loads(response.content)\n",
        "        if \"IdentifierList\" in data:\n",
        "            cid = data[\"IdentifierList\"][\"CID\"][0]\n",
        "            return f\"https://pubchem.ncbi.nlm.nih.gov/compound/{cid}\"\n",
        "        else:\n",
        "            return f\"https://pubchem.ncbi.nlm.nih.gov/\"\n",
        "    else:\n",
        "      return f\"https://pubchem.ncbi.nlm.nih.gov/\""
      ],
      "metadata": {
        "id": "JApz_ZEMrR0F"
      },
      "execution_count": null,
      "outputs": []
    },
    {
      "cell_type": "code",
      "source": [
        "get_compound_url(\"cetyl alcohol\")"
      ],
      "metadata": {
        "colab": {
          "base_uri": "https://localhost:8080/",
          "height": 35
        },
        "id": "7G8exeLTr63h",
        "outputId": "a42d9666-32b1-4bf2-e35b-da7898b5ef68"
      },
      "execution_count": null,
      "outputs": [
        {
          "output_type": "execute_result",
          "data": {
            "text/plain": [
              "'https://pubchem.ncbi.nlm.nih.gov/compound/2682'"
            ],
            "application/vnd.google.colaboratory.intrinsic+json": {
              "type": "string"
            }
          },
          "metadata": {},
          "execution_count": 4
        }
      ]
    },
    {
      "cell_type": "code",
      "source": [
        "!unzip tox_pred.zip "
      ],
      "metadata": {
        "colab": {
          "base_uri": "https://localhost:8080/"
        },
        "id": "N0Gec8rBA1Vs",
        "outputId": "c89272a4-e148-4939-d54a-db3dda3e3e61"
      },
      "execution_count": null,
      "outputs": [
        {
          "output_type": "stream",
          "name": "stdout",
          "text": [
            "Archive:  tox_pred.zip\n",
            "   creating: content/tox_pred/\n",
            "  inflating: content/tox_pred/ckpt-4.index  \n",
            "  inflating: content/tox_pred/ckpt-1.index  \n",
            "  inflating: content/tox_pred/ckpt-3.index  \n",
            "  inflating: content/tox_pred/ckpt-3.data-00000-of-00001  \n",
            "  inflating: content/tox_pred/ckpt-1.data-00000-of-00001  \n",
            "  inflating: content/tox_pred/ckpt-2.data-00000-of-00001  \n",
            "  inflating: content/tox_pred/checkpoint  \n",
            "  inflating: content/tox_pred/ckpt-4.data-00000-of-00001  \n",
            "  inflating: content/tox_pred/ckpt-2.index  \n"
          ]
        }
      ]
    },
    {
      "cell_type": "code",
      "source": [
        "cetaphil = \"\"\"Water, Glycerin, Propylene glycol, Glyceryl stearate, Cetyl alcohol, Stearyl alcohol, Dimethicone, Cyclomethicone\"\"\".lower()\n",
        "ings = cetaphil.split(\", \")"
      ],
      "metadata": {
        "id": "Bs6EHCVTKM5Q"
      },
      "execution_count": null,
      "outputs": []
    },
    {
      "cell_type": "code",
      "source": [
        "import deepchem as dc\n",
        "from deepchem.models import GraphConvModel\n",
        "import pubchempy as pcp\n",
        "import numpy as np\n",
        "import pandas as pd\n",
        "from rdkit import Chem"
      ],
      "metadata": {
        "id": "-OQP0iFxOVka",
        "colab": {
          "base_uri": "https://localhost:8080/"
        },
        "outputId": "b3928448-dffe-457e-fc12-abf619c75cb6"
      },
      "execution_count": null,
      "outputs": [
        {
          "output_type": "stream",
          "name": "stderr",
          "text": [
            "WARNING:deepchem.models.torch_models:Skipped loading modules with pytorch-geometric dependency, missing a dependency. No module named 'torch_geometric'\n",
            "WARNING:deepchem.models:Skipped loading modules with pytorch-geometric dependency, missing a dependency. cannot import name 'DMPNN' from 'deepchem.models.torch_models' (/usr/local/lib/python3.8/dist-packages/deepchem/models/torch_models/__init__.py)\n",
            "WARNING:deepchem.models:Skipped loading modules with pytorch-lightning dependency, missing a dependency. No module named 'pytorch_lightning'\n",
            "WARNING:deepchem.models:Skipped loading some Jax models, missing a dependency. No module named 'haiku'\n"
          ]
        }
      ]
    },
    {
      "cell_type": "code",
      "source": [
        "# don't run\n",
        "tox21_tasks, tox21_datasets, transformers = dc.molnet.load_tox21(featurizer='GraphConv')\n",
        "train_dataset, valid_dataset, test_dataset = tox21_datasets\n",
        "model = GraphConvModel(len(tox21_tasks), mode='classification', model_dir='tox_pred')\n",
        "model.fit(train_dataset, nb_epoch=50)"
      ],
      "metadata": {
        "colab": {
          "base_uri": "https://localhost:8080/"
        },
        "id": "wEwsV1v1OYdK",
        "outputId": "41aff2c1-36ef-490c-d2a3-8fe35555b457"
      },
      "execution_count": null,
      "outputs": [
        {
          "output_type": "stream",
          "name": "stderr",
          "text": [
            "WARNING:tensorflow:Detecting that an object or model or tf.train.Checkpoint is being deleted with unrestored values. See the following logs for the specific values in question. To silence these warnings, use `status.expect_partial()`. See https://www.tensorflow.org/api_docs/python/tf/train/Checkpoint#restorefor details about the status object returned by the restore function.\n",
            "WARNING:tensorflow:Value in checkpoint could not be found in the restored object: (root).model.dense.kernel\n",
            "WARNING:tensorflow:Value in checkpoint could not be found in the restored object: (root).model.dense.bias\n",
            "WARNING:tensorflow:Value in checkpoint could not be found in the restored object: (root).model.reshape_dense.kernel\n",
            "WARNING:tensorflow:Value in checkpoint could not be found in the restored object: (root).model.reshape_dense.bias\n",
            "WARNING:tensorflow:Value in checkpoint could not be found in the restored object: (root).optimizer._variables.1\n",
            "WARNING:tensorflow:Value in checkpoint could not be found in the restored object: (root).optimizer._variables.2\n",
            "WARNING:tensorflow:Value in checkpoint could not be found in the restored object: (root).optimizer._variables.3\n",
            "WARNING:tensorflow:Value in checkpoint could not be found in the restored object: (root).optimizer._variables.4\n",
            "WARNING:tensorflow:Value in checkpoint could not be found in the restored object: (root).optimizer._variables.5\n",
            "WARNING:tensorflow:Value in checkpoint could not be found in the restored object: (root).optimizer._variables.6\n",
            "WARNING:tensorflow:Value in checkpoint could not be found in the restored object: (root).optimizer._variables.7\n",
            "WARNING:tensorflow:Value in checkpoint could not be found in the restored object: (root).optimizer._variables.8\n",
            "WARNING:tensorflow:Value in checkpoint could not be found in the restored object: (root).optimizer._variables.9\n",
            "WARNING:tensorflow:Value in checkpoint could not be found in the restored object: (root).optimizer._variables.10\n",
            "WARNING:tensorflow:Value in checkpoint could not be found in the restored object: (root).optimizer._variables.11\n",
            "WARNING:tensorflow:Value in checkpoint could not be found in the restored object: (root).optimizer._variables.12\n",
            "WARNING:tensorflow:Value in checkpoint could not be found in the restored object: (root).optimizer._variables.13\n",
            "WARNING:tensorflow:Value in checkpoint could not be found in the restored object: (root).optimizer._variables.14\n",
            "WARNING:tensorflow:Value in checkpoint could not be found in the restored object: (root).optimizer._variables.15\n",
            "WARNING:tensorflow:Value in checkpoint could not be found in the restored object: (root).optimizer._variables.16\n",
            "WARNING:tensorflow:Value in checkpoint could not be found in the restored object: (root).optimizer._variables.17\n",
            "WARNING:tensorflow:Value in checkpoint could not be found in the restored object: (root).optimizer._variables.18\n",
            "WARNING:tensorflow:Value in checkpoint could not be found in the restored object: (root).optimizer._variables.19\n",
            "WARNING:tensorflow:Value in checkpoint could not be found in the restored object: (root).optimizer._variables.20\n",
            "WARNING:tensorflow:Value in checkpoint could not be found in the restored object: (root).optimizer._variables.21\n",
            "WARNING:tensorflow:Value in checkpoint could not be found in the restored object: (root).optimizer._variables.22\n",
            "WARNING:tensorflow:Value in checkpoint could not be found in the restored object: (root).optimizer._variables.23\n",
            "WARNING:tensorflow:Value in checkpoint could not be found in the restored object: (root).optimizer._variables.24\n",
            "WARNING:tensorflow:Value in checkpoint could not be found in the restored object: (root).optimizer._variables.25\n",
            "WARNING:tensorflow:Value in checkpoint could not be found in the restored object: (root).optimizer._variables.26\n",
            "WARNING:tensorflow:Value in checkpoint could not be found in the restored object: (root).optimizer._variables.27\n",
            "WARNING:tensorflow:Value in checkpoint could not be found in the restored object: (root).optimizer._variables.28\n",
            "WARNING:tensorflow:Value in checkpoint could not be found in the restored object: (root).optimizer._variables.29\n",
            "WARNING:tensorflow:Value in checkpoint could not be found in the restored object: (root).optimizer._variables.30\n",
            "WARNING:tensorflow:Value in checkpoint could not be found in the restored object: (root).optimizer._variables.31\n",
            "WARNING:tensorflow:Value in checkpoint could not be found in the restored object: (root).optimizer._variables.32\n",
            "WARNING:tensorflow:Value in checkpoint could not be found in the restored object: (root).optimizer._variables.33\n",
            "WARNING:tensorflow:Value in checkpoint could not be found in the restored object: (root).optimizer._variables.34\n",
            "WARNING:tensorflow:Value in checkpoint could not be found in the restored object: (root).optimizer._variables.35\n",
            "WARNING:tensorflow:Value in checkpoint could not be found in the restored object: (root).optimizer._variables.36\n",
            "WARNING:tensorflow:Value in checkpoint could not be found in the restored object: (root).optimizer._variables.37\n",
            "WARNING:tensorflow:Value in checkpoint could not be found in the restored object: (root).optimizer._variables.38\n",
            "WARNING:tensorflow:Value in checkpoint could not be found in the restored object: (root).optimizer._variables.39\n",
            "WARNING:tensorflow:Value in checkpoint could not be found in the restored object: (root).optimizer._variables.40\n",
            "WARNING:tensorflow:Value in checkpoint could not be found in the restored object: (root).optimizer._variables.41\n",
            "WARNING:tensorflow:Value in checkpoint could not be found in the restored object: (root).optimizer._variables.42\n",
            "WARNING:tensorflow:Value in checkpoint could not be found in the restored object: (root).optimizer._variables.43\n",
            "WARNING:tensorflow:Value in checkpoint could not be found in the restored object: (root).optimizer._variables.44\n",
            "WARNING:tensorflow:Value in checkpoint could not be found in the restored object: (root).optimizer._variables.45\n",
            "WARNING:tensorflow:Value in checkpoint could not be found in the restored object: (root).optimizer._variables.46\n",
            "WARNING:tensorflow:Value in checkpoint could not be found in the restored object: (root).optimizer._variables.47\n",
            "WARNING:tensorflow:Value in checkpoint could not be found in the restored object: (root).optimizer._variables.48\n",
            "WARNING:tensorflow:Value in checkpoint could not be found in the restored object: (root).optimizer._variables.49\n",
            "WARNING:tensorflow:Value in checkpoint could not be found in the restored object: (root).optimizer._variables.50\n",
            "WARNING:tensorflow:Value in checkpoint could not be found in the restored object: (root).optimizer._variables.51\n",
            "WARNING:tensorflow:Value in checkpoint could not be found in the restored object: (root).optimizer._variables.52\n",
            "WARNING:tensorflow:Value in checkpoint could not be found in the restored object: (root).optimizer._variables.53\n",
            "WARNING:tensorflow:Value in checkpoint could not be found in the restored object: (root).optimizer._variables.54\n",
            "WARNING:tensorflow:Value in checkpoint could not be found in the restored object: (root).optimizer._variables.55\n",
            "WARNING:tensorflow:Value in checkpoint could not be found in the restored object: (root).optimizer._variables.56\n",
            "WARNING:tensorflow:Value in checkpoint could not be found in the restored object: (root).optimizer._variables.57\n",
            "WARNING:tensorflow:Value in checkpoint could not be found in the restored object: (root).optimizer._variables.58\n",
            "WARNING:tensorflow:Value in checkpoint could not be found in the restored object: (root).optimizer._variables.59\n",
            "WARNING:tensorflow:Value in checkpoint could not be found in the restored object: (root).optimizer._variables.60\n",
            "WARNING:tensorflow:Value in checkpoint could not be found in the restored object: (root).optimizer._variables.61\n",
            "WARNING:tensorflow:Value in checkpoint could not be found in the restored object: (root).optimizer._variables.62\n",
            "WARNING:tensorflow:Value in checkpoint could not be found in the restored object: (root).optimizer._variables.63\n",
            "WARNING:tensorflow:Value in checkpoint could not be found in the restored object: (root).optimizer._variables.64\n",
            "WARNING:tensorflow:Value in checkpoint could not be found in the restored object: (root).optimizer._variables.65\n",
            "WARNING:tensorflow:Value in checkpoint could not be found in the restored object: (root).optimizer._variables.66\n",
            "WARNING:tensorflow:Value in checkpoint could not be found in the restored object: (root).optimizer._variables.67\n",
            "WARNING:tensorflow:Value in checkpoint could not be found in the restored object: (root).optimizer._variables.68\n",
            "WARNING:tensorflow:Value in checkpoint could not be found in the restored object: (root).optimizer._variables.69\n",
            "WARNING:tensorflow:Value in checkpoint could not be found in the restored object: (root).optimizer._variables.70\n",
            "WARNING:tensorflow:Value in checkpoint could not be found in the restored object: (root).optimizer._variables.71\n",
            "WARNING:tensorflow:Value in checkpoint could not be found in the restored object: (root).optimizer._variables.72\n",
            "WARNING:tensorflow:Value in checkpoint could not be found in the restored object: (root).optimizer._variables.73\n",
            "WARNING:tensorflow:Value in checkpoint could not be found in the restored object: (root).optimizer._variables.74\n",
            "WARNING:tensorflow:Value in checkpoint could not be found in the restored object: (root).optimizer._variables.75\n",
            "WARNING:tensorflow:Value in checkpoint could not be found in the restored object: (root).optimizer._variables.76\n",
            "WARNING:tensorflow:Value in checkpoint could not be found in the restored object: (root).optimizer._variables.77\n",
            "WARNING:tensorflow:Value in checkpoint could not be found in the restored object: (root).optimizer._variables.78\n",
            "WARNING:tensorflow:Value in checkpoint could not be found in the restored object: (root).optimizer._variables.79\n",
            "WARNING:tensorflow:Value in checkpoint could not be found in the restored object: (root).optimizer._variables.80\n",
            "WARNING:tensorflow:Value in checkpoint could not be found in the restored object: (root).optimizer._variables.81\n",
            "WARNING:tensorflow:Value in checkpoint could not be found in the restored object: (root).optimizer._variables.82\n",
            "WARNING:tensorflow:Value in checkpoint could not be found in the restored object: (root).optimizer._variables.83\n",
            "WARNING:tensorflow:Value in checkpoint could not be found in the restored object: (root).optimizer._variables.84\n",
            "WARNING:tensorflow:Value in checkpoint could not be found in the restored object: (root).optimizer._variables.85\n",
            "WARNING:tensorflow:Value in checkpoint could not be found in the restored object: (root).optimizer._variables.86\n",
            "WARNING:tensorflow:Value in checkpoint could not be found in the restored object: (root).optimizer._variables.87\n",
            "WARNING:tensorflow:Value in checkpoint could not be found in the restored object: (root).optimizer._variables.88\n",
            "WARNING:tensorflow:Value in checkpoint could not be found in the restored object: (root).optimizer._variables.89\n",
            "WARNING:tensorflow:Value in checkpoint could not be found in the restored object: (root).optimizer._variables.90\n",
            "WARNING:tensorflow:Value in checkpoint could not be found in the restored object: (root).optimizer._variables.91\n",
            "WARNING:tensorflow:Value in checkpoint could not be found in the restored object: (root).optimizer._variables.92\n",
            "WARNING:tensorflow:Value in checkpoint could not be found in the restored object: (root).optimizer._variables.93\n",
            "WARNING:tensorflow:Value in checkpoint could not be found in the restored object: (root).optimizer._variables.94\n",
            "WARNING:tensorflow:Value in checkpoint could not be found in the restored object: (root).optimizer._variables.95\n",
            "WARNING:tensorflow:Value in checkpoint could not be found in the restored object: (root).optimizer._variables.96\n",
            "WARNING:tensorflow:Value in checkpoint could not be found in the restored object: (root).optimizer._variables.97\n",
            "WARNING:tensorflow:Value in checkpoint could not be found in the restored object: (root).optimizer._variables.98\n",
            "WARNING:tensorflow:Value in checkpoint could not be found in the restored object: (root).optimizer._variables.99\n",
            "WARNING:tensorflow:Value in checkpoint could not be found in the restored object: (root).optimizer._variables.100\n",
            "WARNING:tensorflow:Value in checkpoint could not be found in the restored object: (root).optimizer._variables.101\n",
            "WARNING:tensorflow:Value in checkpoint could not be found in the restored object: (root).optimizer._variables.102\n",
            "WARNING:tensorflow:Value in checkpoint could not be found in the restored object: (root).optimizer._variables.103\n",
            "WARNING:tensorflow:Value in checkpoint could not be found in the restored object: (root).optimizer._variables.104\n",
            "WARNING:tensorflow:Value in checkpoint could not be found in the restored object: (root).optimizer._variables.105\n",
            "WARNING:tensorflow:Value in checkpoint could not be found in the restored object: (root).optimizer._variables.106\n",
            "WARNING:tensorflow:Value in checkpoint could not be found in the restored object: (root).optimizer._variables.107\n",
            "WARNING:tensorflow:Value in checkpoint could not be found in the restored object: (root).optimizer._variables.108\n",
            "WARNING:tensorflow:Value in checkpoint could not be found in the restored object: (root).optimizer._variables.109\n",
            "WARNING:tensorflow:Value in checkpoint could not be found in the restored object: (root).optimizer._variables.110\n",
            "WARNING:tensorflow:Value in checkpoint could not be found in the restored object: (root).optimizer._variables.111\n",
            "WARNING:tensorflow:Value in checkpoint could not be found in the restored object: (root).optimizer._variables.112\n",
            "WARNING:tensorflow:Value in checkpoint could not be found in the restored object: (root).optimizer._variables.113\n",
            "WARNING:tensorflow:Value in checkpoint could not be found in the restored object: (root).optimizer._variables.114\n",
            "WARNING:tensorflow:Value in checkpoint could not be found in the restored object: (root).optimizer._variables.115\n",
            "WARNING:tensorflow:Value in checkpoint could not be found in the restored object: (root).optimizer._variables.116\n",
            "WARNING:tensorflow:Value in checkpoint could not be found in the restored object: (root).optimizer._variables.117\n",
            "WARNING:tensorflow:Value in checkpoint could not be found in the restored object: (root).optimizer._variables.118\n",
            "WARNING:tensorflow:Value in checkpoint could not be found in the restored object: (root).optimizer._variables.119\n",
            "WARNING:tensorflow:Value in checkpoint could not be found in the restored object: (root).optimizer._variables.120\n",
            "WARNING:tensorflow:Value in checkpoint could not be found in the restored object: (root).optimizer._variables.121\n",
            "WARNING:tensorflow:Value in checkpoint could not be found in the restored object: (root).optimizer._variables.122\n",
            "WARNING:tensorflow:Value in checkpoint could not be found in the restored object: (root).optimizer._variables.123\n",
            "WARNING:tensorflow:Value in checkpoint could not be found in the restored object: (root).optimizer._variables.124\n",
            "WARNING:tensorflow:Value in checkpoint could not be found in the restored object: (root).optimizer._variables.125\n",
            "WARNING:tensorflow:Value in checkpoint could not be found in the restored object: (root).optimizer._variables.126\n",
            "WARNING:tensorflow:Value in checkpoint could not be found in the restored object: (root).optimizer._variables.127\n",
            "WARNING:tensorflow:Value in checkpoint could not be found in the restored object: (root).optimizer._variables.128\n",
            "WARNING:tensorflow:Value in checkpoint could not be found in the restored object: (root).optimizer._variables.129\n",
            "WARNING:tensorflow:Value in checkpoint could not be found in the restored object: (root).optimizer._variables.130\n",
            "WARNING:tensorflow:Value in checkpoint could not be found in the restored object: (root).optimizer._variables.131\n",
            "WARNING:tensorflow:Value in checkpoint could not be found in the restored object: (root).optimizer._variables.132\n",
            "WARNING:tensorflow:Value in checkpoint could not be found in the restored object: (root).optimizer._variables.133\n",
            "WARNING:tensorflow:Value in checkpoint could not be found in the restored object: (root).optimizer._variables.134\n",
            "WARNING:tensorflow:Value in checkpoint could not be found in the restored object: (root).optimizer._variables.135\n",
            "WARNING:tensorflow:Value in checkpoint could not be found in the restored object: (root).optimizer._variables.136\n",
            "WARNING:tensorflow:Value in checkpoint could not be found in the restored object: (root).optimizer._variables.137\n",
            "WARNING:tensorflow:Value in checkpoint could not be found in the restored object: (root).optimizer._variables.138\n",
            "WARNING:tensorflow:Value in checkpoint could not be found in the restored object: (root).optimizer._variables.139\n",
            "WARNING:tensorflow:Value in checkpoint could not be found in the restored object: (root).optimizer._variables.140\n",
            "WARNING:tensorflow:Value in checkpoint could not be found in the restored object: (root).optimizer._variables.141\n",
            "WARNING:tensorflow:Value in checkpoint could not be found in the restored object: (root).optimizer._variables.142\n",
            "WARNING:tensorflow:Value in checkpoint could not be found in the restored object: (root).optimizer._variables.143\n",
            "WARNING:tensorflow:Value in checkpoint could not be found in the restored object: (root).optimizer._variables.144\n",
            "WARNING:tensorflow:Value in checkpoint could not be found in the restored object: (root).optimizer._variables.145\n",
            "WARNING:tensorflow:Value in checkpoint could not be found in the restored object: (root).optimizer._variables.146\n",
            "WARNING:tensorflow:Value in checkpoint could not be found in the restored object: (root).optimizer._variables.147\n",
            "WARNING:tensorflow:Value in checkpoint could not be found in the restored object: (root).optimizer._variables.148\n",
            "WARNING:tensorflow:Value in checkpoint could not be found in the restored object: (root).optimizer._variables.149\n",
            "WARNING:tensorflow:Value in checkpoint could not be found in the restored object: (root).optimizer._variables.150\n",
            "WARNING:tensorflow:Value in checkpoint could not be found in the restored object: (root).optimizer._variables.151\n",
            "WARNING:tensorflow:Value in checkpoint could not be found in the restored object: (root).optimizer._variables.152\n",
            "WARNING:tensorflow:Value in checkpoint could not be found in the restored object: (root).optimizer._variables.153\n",
            "WARNING:tensorflow:Value in checkpoint could not be found in the restored object: (root).optimizer._variables.154\n",
            "WARNING:tensorflow:Value in checkpoint could not be found in the restored object: (root).optimizer._variables.155\n",
            "WARNING:tensorflow:Value in checkpoint could not be found in the restored object: (root).optimizer._variables.156\n",
            "WARNING:tensorflow:Value in checkpoint could not be found in the restored object: (root).optimizer._variables.157\n",
            "WARNING:tensorflow:Value in checkpoint could not be found in the restored object: (root).optimizer._variables.158\n",
            "WARNING:tensorflow:Value in checkpoint could not be found in the restored object: (root).optimizer._variables.159\n",
            "WARNING:tensorflow:Value in checkpoint could not be found in the restored object: (root).optimizer._variables.160\n",
            "WARNING:tensorflow:Value in checkpoint could not be found in the restored object: (root).optimizer._variables.161\n",
            "WARNING:tensorflow:Value in checkpoint could not be found in the restored object: (root).optimizer._variables.162\n",
            "WARNING:tensorflow:Value in checkpoint could not be found in the restored object: (root).optimizer._variables.163\n",
            "WARNING:tensorflow:Value in checkpoint could not be found in the restored object: (root).optimizer._variables.164\n",
            "WARNING:tensorflow:Value in checkpoint could not be found in the restored object: (root).optimizer._variables.165\n",
            "WARNING:tensorflow:Value in checkpoint could not be found in the restored object: (root).optimizer._variables.166\n",
            "WARNING:tensorflow:Value in checkpoint could not be found in the restored object: (root).optimizer._variables.167\n",
            "WARNING:tensorflow:Value in checkpoint could not be found in the restored object: (root).optimizer._variables.168\n",
            "WARNING:tensorflow:Value in checkpoint could not be found in the restored object: (root).optimizer._variables.169\n",
            "WARNING:tensorflow:Value in checkpoint could not be found in the restored object: (root).optimizer._variables.170\n",
            "WARNING:tensorflow:Value in checkpoint could not be found in the restored object: (root).optimizer._variables.171\n",
            "WARNING:tensorflow:Value in checkpoint could not be found in the restored object: (root).optimizer._variables.172\n",
            "WARNING:tensorflow:Value in checkpoint could not be found in the restored object: (root).optimizer._variables.173\n",
            "WARNING:tensorflow:Value in checkpoint could not be found in the restored object: (root).optimizer._variables.174\n",
            "WARNING:tensorflow:Value in checkpoint could not be found in the restored object: (root).optimizer._variables.175\n",
            "WARNING:tensorflow:Value in checkpoint could not be found in the restored object: (root).optimizer._variables.176\n",
            "WARNING:tensorflow:Value in checkpoint could not be found in the restored object: (root).optimizer._variables.177\n",
            "WARNING:tensorflow:Value in checkpoint could not be found in the restored object: (root).optimizer._variables.178\n",
            "WARNING:tensorflow:Value in checkpoint could not be found in the restored object: (root).optimizer._variables.179\n",
            "WARNING:tensorflow:Value in checkpoint could not be found in the restored object: (root).optimizer._variables.180\n",
            "WARNING:tensorflow:Value in checkpoint could not be found in the restored object: (root).optimizer._variables.181\n",
            "WARNING:tensorflow:Value in checkpoint could not be found in the restored object: (root).optimizer._variables.182\n",
            "WARNING:tensorflow:Value in checkpoint could not be found in the restored object: (root).optimizer._variables.183\n",
            "WARNING:tensorflow:Value in checkpoint could not be found in the restored object: (root).optimizer._variables.184\n",
            "WARNING:tensorflow:Value in checkpoint could not be found in the restored object: (root).optimizer._variables.185\n",
            "WARNING:tensorflow:Value in checkpoint could not be found in the restored object: (root).optimizer._variables.186\n",
            "WARNING:tensorflow:Value in checkpoint could not be found in the restored object: (root).optimizer._variables.187\n",
            "WARNING:tensorflow:Value in checkpoint could not be found in the restored object: (root).optimizer._variables.188\n",
            "WARNING:tensorflow:Value in checkpoint could not be found in the restored object: (root).model.graph_convs.0.kernel0\n",
            "WARNING:tensorflow:Value in checkpoint could not be found in the restored object: (root).model.graph_convs.0.kernel1\n",
            "WARNING:tensorflow:Value in checkpoint could not be found in the restored object: (root).model.graph_convs.0.kernel2\n",
            "WARNING:tensorflow:Value in checkpoint could not be found in the restored object: (root).model.graph_convs.0.kernel3\n",
            "WARNING:tensorflow:Value in checkpoint could not be found in the restored object: (root).model.graph_convs.0.kernel4\n",
            "WARNING:tensorflow:Value in checkpoint could not be found in the restored object: (root).model.graph_convs.0.kernel5\n",
            "WARNING:tensorflow:Value in checkpoint could not be found in the restored object: (root).model.graph_convs.0.kernel6\n",
            "WARNING:tensorflow:Value in checkpoint could not be found in the restored object: (root).model.graph_convs.0.kernel7\n",
            "WARNING:tensorflow:Value in checkpoint could not be found in the restored object: (root).model.graph_convs.0.kernel8\n",
            "WARNING:tensorflow:Value in checkpoint could not be found in the restored object: (root).model.graph_convs.0.kernel9\n",
            "WARNING:tensorflow:Value in checkpoint could not be found in the restored object: (root).model.graph_convs.0.kernel10\n",
            "WARNING:tensorflow:Value in checkpoint could not be found in the restored object: (root).model.graph_convs.0.kernel11\n",
            "WARNING:tensorflow:Value in checkpoint could not be found in the restored object: (root).model.graph_convs.0.kernel12\n",
            "WARNING:tensorflow:Value in checkpoint could not be found in the restored object: (root).model.graph_convs.0.kernel13\n",
            "WARNING:tensorflow:Value in checkpoint could not be found in the restored object: (root).model.graph_convs.0.kernel14\n",
            "WARNING:tensorflow:Value in checkpoint could not be found in the restored object: (root).model.graph_convs.0.kernel15\n",
            "WARNING:tensorflow:Value in checkpoint could not be found in the restored object: (root).model.graph_convs.0.kernel16\n",
            "WARNING:tensorflow:Value in checkpoint could not be found in the restored object: (root).model.graph_convs.0.kernel17\n",
            "WARNING:tensorflow:Value in checkpoint could not be found in the restored object: (root).model.graph_convs.0.kernel18\n",
            "WARNING:tensorflow:Value in checkpoint could not be found in the restored object: (root).model.graph_convs.0.kernel19\n",
            "WARNING:tensorflow:Value in checkpoint could not be found in the restored object: (root).model.graph_convs.0.kernel20\n",
            "WARNING:tensorflow:Value in checkpoint could not be found in the restored object: (root).model.graph_convs.0.bias0\n",
            "WARNING:tensorflow:Value in checkpoint could not be found in the restored object: (root).model.graph_convs.0.bias1\n",
            "WARNING:tensorflow:Value in checkpoint could not be found in the restored object: (root).model.graph_convs.0.bias2\n",
            "WARNING:tensorflow:Value in checkpoint could not be found in the restored object: (root).model.graph_convs.0.bias3\n",
            "WARNING:tensorflow:Value in checkpoint could not be found in the restored object: (root).model.graph_convs.0.bias4\n",
            "WARNING:tensorflow:Value in checkpoint could not be found in the restored object: (root).model.graph_convs.0.bias5\n",
            "WARNING:tensorflow:Value in checkpoint could not be found in the restored object: (root).model.graph_convs.0.bias6\n",
            "WARNING:tensorflow:Value in checkpoint could not be found in the restored object: (root).model.graph_convs.0.bias7\n",
            "WARNING:tensorflow:Value in checkpoint could not be found in the restored object: (root).model.graph_convs.0.bias8\n",
            "WARNING:tensorflow:Value in checkpoint could not be found in the restored object: (root).model.graph_convs.0.bias9\n",
            "WARNING:tensorflow:Value in checkpoint could not be found in the restored object: (root).model.graph_convs.0.bias10\n",
            "WARNING:tensorflow:Value in checkpoint could not be found in the restored object: (root).model.graph_convs.0.bias11\n",
            "WARNING:tensorflow:Value in checkpoint could not be found in the restored object: (root).model.graph_convs.0.bias12\n",
            "WARNING:tensorflow:Value in checkpoint could not be found in the restored object: (root).model.graph_convs.0.bias13\n",
            "WARNING:tensorflow:Value in checkpoint could not be found in the restored object: (root).model.graph_convs.0.bias14\n",
            "WARNING:tensorflow:Value in checkpoint could not be found in the restored object: (root).model.graph_convs.0.bias15\n",
            "WARNING:tensorflow:Value in checkpoint could not be found in the restored object: (root).model.graph_convs.0.bias16\n",
            "WARNING:tensorflow:Value in checkpoint could not be found in the restored object: (root).model.graph_convs.0.bias17\n",
            "WARNING:tensorflow:Value in checkpoint could not be found in the restored object: (root).model.graph_convs.0.bias18\n",
            "WARNING:tensorflow:Value in checkpoint could not be found in the restored object: (root).model.graph_convs.0.bias19\n",
            "WARNING:tensorflow:Value in checkpoint could not be found in the restored object: (root).model.graph_convs.0.bias20\n",
            "WARNING:tensorflow:Value in checkpoint could not be found in the restored object: (root).model.graph_convs.1.kernel0\n",
            "WARNING:tensorflow:Value in checkpoint could not be found in the restored object: (root).model.graph_convs.1.kernel1\n",
            "WARNING:tensorflow:Value in checkpoint could not be found in the restored object: (root).model.graph_convs.1.kernel2\n",
            "WARNING:tensorflow:Value in checkpoint could not be found in the restored object: (root).model.graph_convs.1.kernel3\n",
            "WARNING:tensorflow:Value in checkpoint could not be found in the restored object: (root).model.graph_convs.1.kernel4\n",
            "WARNING:tensorflow:Value in checkpoint could not be found in the restored object: (root).model.graph_convs.1.kernel5\n",
            "WARNING:tensorflow:Value in checkpoint could not be found in the restored object: (root).model.graph_convs.1.kernel6\n",
            "WARNING:tensorflow:Value in checkpoint could not be found in the restored object: (root).model.graph_convs.1.kernel7\n",
            "WARNING:tensorflow:Value in checkpoint could not be found in the restored object: (root).model.graph_convs.1.kernel8\n",
            "WARNING:tensorflow:Value in checkpoint could not be found in the restored object: (root).model.graph_convs.1.kernel9\n",
            "WARNING:tensorflow:Value in checkpoint could not be found in the restored object: (root).model.graph_convs.1.kernel10\n",
            "WARNING:tensorflow:Value in checkpoint could not be found in the restored object: (root).model.graph_convs.1.kernel11\n",
            "WARNING:tensorflow:Value in checkpoint could not be found in the restored object: (root).model.graph_convs.1.kernel12\n",
            "WARNING:tensorflow:Value in checkpoint could not be found in the restored object: (root).model.graph_convs.1.kernel13\n",
            "WARNING:tensorflow:Value in checkpoint could not be found in the restored object: (root).model.graph_convs.1.kernel14\n",
            "WARNING:tensorflow:Value in checkpoint could not be found in the restored object: (root).model.graph_convs.1.kernel15\n",
            "WARNING:tensorflow:Value in checkpoint could not be found in the restored object: (root).model.graph_convs.1.kernel16\n",
            "WARNING:tensorflow:Value in checkpoint could not be found in the restored object: (root).model.graph_convs.1.kernel17\n",
            "WARNING:tensorflow:Value in checkpoint could not be found in the restored object: (root).model.graph_convs.1.kernel18\n",
            "WARNING:tensorflow:Value in checkpoint could not be found in the restored object: (root).model.graph_convs.1.kernel19\n",
            "WARNING:tensorflow:Value in checkpoint could not be found in the restored object: (root).model.graph_convs.1.kernel20\n",
            "WARNING:tensorflow:Value in checkpoint could not be found in the restored object: (root).model.graph_convs.1.bias0\n",
            "WARNING:tensorflow:Value in checkpoint could not be found in the restored object: (root).model.graph_convs.1.bias1\n",
            "WARNING:tensorflow:Value in checkpoint could not be found in the restored object: (root).model.graph_convs.1.bias2\n",
            "WARNING:tensorflow:Value in checkpoint could not be found in the restored object: (root).model.graph_convs.1.bias3\n",
            "WARNING:tensorflow:Value in checkpoint could not be found in the restored object: (root).model.graph_convs.1.bias4\n",
            "WARNING:tensorflow:Value in checkpoint could not be found in the restored object: (root).model.graph_convs.1.bias5\n",
            "WARNING:tensorflow:Value in checkpoint could not be found in the restored object: (root).model.graph_convs.1.bias6\n",
            "WARNING:tensorflow:Value in checkpoint could not be found in the restored object: (root).model.graph_convs.1.bias7\n",
            "WARNING:tensorflow:Value in checkpoint could not be found in the restored object: (root).model.graph_convs.1.bias8\n",
            "WARNING:tensorflow:Value in checkpoint could not be found in the restored object: (root).model.graph_convs.1.bias9\n",
            "WARNING:tensorflow:Value in checkpoint could not be found in the restored object: (root).model.graph_convs.1.bias10\n",
            "WARNING:tensorflow:Value in checkpoint could not be found in the restored object: (root).model.graph_convs.1.bias11\n",
            "WARNING:tensorflow:Value in checkpoint could not be found in the restored object: (root).model.graph_convs.1.bias12\n",
            "WARNING:tensorflow:Value in checkpoint could not be found in the restored object: (root).model.graph_convs.1.bias13\n",
            "WARNING:tensorflow:Value in checkpoint could not be found in the restored object: (root).model.graph_convs.1.bias14\n",
            "WARNING:tensorflow:Value in checkpoint could not be found in the restored object: (root).model.graph_convs.1.bias15\n",
            "WARNING:tensorflow:Value in checkpoint could not be found in the restored object: (root).model.graph_convs.1.bias16\n",
            "WARNING:tensorflow:Value in checkpoint could not be found in the restored object: (root).model.graph_convs.1.bias17\n",
            "WARNING:tensorflow:Value in checkpoint could not be found in the restored object: (root).model.graph_convs.1.bias18\n",
            "WARNING:tensorflow:Value in checkpoint could not be found in the restored object: (root).model.graph_convs.1.bias19\n",
            "WARNING:tensorflow:Value in checkpoint could not be found in the restored object: (root).model.graph_convs.1.bias20\n",
            "WARNING:tensorflow:Value in checkpoint could not be found in the restored object: (root).model.batch_norms.0.gamma\n",
            "WARNING:tensorflow:Value in checkpoint could not be found in the restored object: (root).model.batch_norms.0.beta\n",
            "WARNING:tensorflow:Value in checkpoint could not be found in the restored object: (root).model.batch_norms.0.moving_mean\n",
            "WARNING:tensorflow:Value in checkpoint could not be found in the restored object: (root).model.batch_norms.0.moving_variance\n",
            "WARNING:tensorflow:Value in checkpoint could not be found in the restored object: (root).model.batch_norms.1.gamma\n",
            "WARNING:tensorflow:Value in checkpoint could not be found in the restored object: (root).model.batch_norms.1.beta\n",
            "WARNING:tensorflow:Value in checkpoint could not be found in the restored object: (root).model.batch_norms.1.moving_mean\n",
            "WARNING:tensorflow:Value in checkpoint could not be found in the restored object: (root).model.batch_norms.1.moving_variance\n",
            "WARNING:tensorflow:Value in checkpoint could not be found in the restored object: (root).model.batch_norms.2.gamma\n",
            "WARNING:tensorflow:Value in checkpoint could not be found in the restored object: (root).model.batch_norms.2.beta\n",
            "WARNING:tensorflow:Value in checkpoint could not be found in the restored object: (root).model.batch_norms.2.moving_mean\n",
            "WARNING:tensorflow:Value in checkpoint could not be found in the restored object: (root).model.batch_norms.2.moving_variance\n"
          ]
        },
        {
          "output_type": "execute_result",
          "data": {
            "text/plain": [
              "0.2629950332641602"
            ]
          },
          "metadata": {},
          "execution_count": 30
        }
      ]
    },
    {
      "cell_type": "code",
      "source": [
        "tox21_tasks = ['NR-AR',\n",
        " 'NR-AR-LBD',\n",
        " 'NR-AhR',\n",
        " 'NR-Aromatase',\n",
        " 'NR-ER',\n",
        " 'NR-ER-LBD',\n",
        " 'NR-PPAR-gamma',\n",
        " 'SR-ARE',\n",
        " 'SR-ATAD5',\n",
        " 'SR-HSE',\n",
        " 'SR-MMP',\n",
        " 'SR-p53']"
      ],
      "metadata": {
        "id": "x77W6V_pEslH"
      },
      "execution_count": null,
      "outputs": []
    },
    {
      "cell_type": "code",
      "source": [
        "### for using later\n",
        "model = dc.models.GraphConvModel(len(tox21_tasks), mode='classification', model_dir='content/tox_pred')\n",
        "model.restore()"
      ],
      "metadata": {
        "id": "3uRPc2tuceTv"
      },
      "execution_count": null,
      "outputs": []
    },
    {
      "cell_type": "code",
      "source": [
        "human_task = ['NR-AR', 'NR-AR-LBD', 'NR-Aromatase', 'NR-ER', 'NR-ER-LBD']\n",
        "environment_task = ['NR-AhR', 'NR-PPAR-gamma', 'SR-ARE', 'SR-ATAD5', 'SR-HSE', 'SR-MMP', 'SR-p53']\n",
        "aquatic_task = ['NR-Aromatase', 'NR-ER', 'NR-ER-LBD', 'NR-PPAR-gamma', 'SR-ARE', 'SR-ATAD5', 'SR-HSE', 'SR-MMP']"
      ],
      "metadata": {
        "id": "8F_YAfqBOfjp"
      },
      "execution_count": null,
      "outputs": []
    },
    {
      "cell_type": "code",
      "source": [
        "environment_task_indices = [tox21_tasks.index(task) for task in environment_task]\n",
        "aquatic_task_indices = [tox21_tasks.index(task) for task in aquatic_task]\n",
        "human_task_indices = [tox21_tasks.index(task) for task in human_task]"
      ],
      "metadata": {
        "id": "pkmQDspxOi10"
      },
      "execution_count": null,
      "outputs": []
    },
    {
      "cell_type": "code",
      "source": [
        "def predict_toxicity(compound):\n",
        "    featurizer = dc.feat.graph_features.ConvMolFeaturizer()\n",
        "    features = featurizer([compound])\n",
        "    composite_preds =  model.predict_on_batch(features)[0]\n",
        "    environment_preds = composite_preds[environment_task_indices]\n",
        "    aquatic_preds = composite_preds[aquatic_task_indices]\n",
        "    human_preds = composite_preds[human_task_indices]\n",
        "    return environment_preds, aquatic_preds, human_preds, composite_preds"
      ],
      "metadata": {
        "id": "LHRzLxTAObt7"
      },
      "execution_count": null,
      "outputs": []
    },
    {
      "cell_type": "code",
      "source": [
        "# [ing.lower() for ing in [\"Water\", \"Sodium Laureth Sulfate\", \"Glycol Distearate\", \"Cocamidopropyl Betaine\", \"Sodium Chloride\", \"Fragrance (Parfum)\", \"Glycerin\", \"Dimethicone\", \"Dimethiconol\", \"Acrylates/Beheneth-25 Methacrylate Copolymer\", \"Styrene/Acrylates Copolymer\", \"Guar Hydroxypropyltrimonium Chloride\", \"Citric Acid\", \"Tetrasodium Edta\", \"Amodimethicone\", \"Dmdm Hydantoin\", \"Peg-45M\", \"Tea-Dodecylbenzenesulfonate, Cocamide Mea\", \"Lysine Hcl\", \"Arginine\", \"Peg-9M\", \"Cetrimonium Chloride\", \"Ppg-9\", \"Propylene Glycol\", \"Methylchloroisothiazolinone\", \"Methylisothiazolinone\", \"Mica\", \"Titanium Dioxide\"]]\n",
        "list_of_ingredients = set(ings)\n",
        "compounds = {}\n",
        "exemptions = set(['water', 'sodium chloride', 'potassium chloride', 'magnesium chloride', 'calcium chloride', 'sodium hydroxide', 'potassium hydroxide', 'ammonium hydroxide', 'hydrochloric acid', 'sulfuric acid', 'nitric acid', 'acetic acid', 'citric acid', 'lactic acid', 'benzoic acid', 'salicylic acid', 'urea', 'glycerin', 'propylene glycol', 'ethanol', 'isopropyl alcohol', 'hexylene glycol', 'butylene glycol', 'propanediol', 'polyethylene glycol (PEG)', 'sorbitol', 'xylitol', 'sucralose', 'saccharin', 'aspartame', 'titanium dioxide', 'iron oxide'])\n",
        "ingredients = list(list_of_ingredients - exemptions)\n",
        "exempts = list(list_of_ingredients - set(ingredients))\n",
        "print(exempts)"
      ],
      "metadata": {
        "colab": {
          "base_uri": "https://localhost:8080/"
        },
        "id": "sCbsAvHqOn5Y",
        "outputId": "89321d5c-ba16-4afc-e258-1ef5c3a199f2"
      },
      "execution_count": null,
      "outputs": [
        {
          "output_type": "stream",
          "name": "stdout",
          "text": [
            "['propylene glycol', 'glycerin', 'water']\n"
          ]
        }
      ]
    },
    {
      "cell_type": "code",
      "source": [
        "for ingredient_name in ingredients:\n",
        "  try:\n",
        "    result = pcp.get_compounds(ingredient_name, 'name')[0]\n",
        "    compound = Chem.MolFromSmiles(result.canonical_smiles)\n",
        "    compounds[compound] = ingredient_name\n",
        "  except:\n",
        "    print(\"Left:\", ingredient_name)"
      ],
      "metadata": {
        "id": "z_wDSxK-S1p3"
      },
      "execution_count": null,
      "outputs": []
    },
    {
      "cell_type": "code",
      "source": [
        "compounds"
      ],
      "metadata": {
        "colab": {
          "base_uri": "https://localhost:8080/"
        },
        "id": "lnXL07EKTJCp",
        "outputId": "fdea5804-d779-4b46-d46d-5865d50a42c6"
      },
      "execution_count": null,
      "outputs": [
        {
          "output_type": "execute_result",
          "data": {
            "text/plain": [
              "{<rdkit.Chem.rdchem.Mol at 0x7f8f1c1d1660>: 'stearyl alcohol',\n",
              " <rdkit.Chem.rdchem.Mol at 0x7f8f1c1d1430>: 'cyclomethicone',\n",
              " <rdkit.Chem.rdchem.Mol at 0x7f8f1c1d1580>: 'dimethicone',\n",
              " <rdkit.Chem.rdchem.Mol at 0x7f8f1c1d14a0>: 'glyceryl stearate',\n",
              " <rdkit.Chem.rdchem.Mol at 0x7f8f1c1d13c0>: 'cetyl alcohol'}"
            ]
          },
          "metadata": {},
          "execution_count": 18
        }
      ]
    },
    {
      "cell_type": "code",
      "source": [
        "summary = {}\n",
        "overall = 0\n",
        "ingredient_count = len(compounds)\n",
        "aqua_tot, hum_tot, env_tot = 0, 0, 0\n",
        "for compound, name in compounds.items():\n",
        "  environment_preds, aquatic_preds, human_preds, composite_preds = predict_toxicity(compound)\n",
        "  env, aqua, hum, comp = environment_preds.mean(axis=0)[0], aquatic_preds.mean(axis=0)[0], human_preds.mean(axis=0)[0], composite_preds.mean(axis=0)[0]\n",
        "  overall += comp\n",
        "  aqua_tot += aqua\n",
        "  env_tot += env\n",
        "  #hum_tot += hum\n",
        "  summary[name.capitalize()] = [aqua, env, get_compound_url(name)]#, hum]\n",
        "summary[\"Overall\"] = overall / ingredient_count\n",
        "summary[\"Aquatic\"] = aqua_tot / ingredient_count\n",
        "#summary[\"Human\"] = hum_tot / ingredient_count\n",
        "summary[\"Environment\"] = env_tot / ingredient_count\n",
        "\n",
        "for ing in exempts:\n",
        "  summary[ing.capitalize()] = [0, 0, get_compound_url(ing)]\n"
      ],
      "metadata": {
        "id": "69lZCfABOqA5"
      },
      "execution_count": null,
      "outputs": []
    },
    {
      "cell_type": "code",
      "source": [
        "from pprint import pprint\n",
        "print(\"\"\"Scheme------------\n",
        "     Name : [Aquatic, Environment, URL]\n",
        "     Three separate entities: Aquatic, Environment, Overall\n",
        "     \"\"\")\n",
        "pprint(summary)"
      ],
      "metadata": {
        "colab": {
          "base_uri": "https://localhost:8080/"
        },
        "id": "gHR6xvGkQ9b0",
        "outputId": "3f86ff57-2d45-45b1-9c16-310d6a349939"
      },
      "execution_count": null,
      "outputs": [
        {
          "output_type": "stream",
          "name": "stdout",
          "text": [
            "Scheme------------\n",
            "     Name : [Aquatic, Environment, URL]\n",
            "     Three separate entities: Aquatic, Environment, Overall\n",
            "     \n",
            "{'Aquatic': 0.8653411030769348,\n",
            " 'Cetyl alcohol': [0.78995514,\n",
            "                   0.8417698,\n",
            "                   'https://pubchem.ncbi.nlm.nih.gov/compound/2682'],\n",
            " 'Cyclomethicone': [0.90578717,\n",
            "                    0.994877,\n",
            "                    'https://pubchem.ncbi.nlm.nih.gov/compound/10913'],\n",
            " 'Dimethicone': [0.90537465,\n",
            "                 0.97879666,\n",
            "                 'https://pubchem.ncbi.nlm.nih.gov/compound/24764'],\n",
            " 'Environment': 0.9197543621063232,\n",
            " 'Glycerin': [0, 0, 'https://pubchem.ncbi.nlm.nih.gov/compound/753'],\n",
            " 'Glyceryl stearate': [0.9360534,\n",
            "                       0.9419845,\n",
            "                       'https://pubchem.ncbi.nlm.nih.gov/compound/24699'],\n",
            " 'Overall': 0.8996385216712952,\n",
            " 'Propylene glycol': [0, 0, 'https://pubchem.ncbi.nlm.nih.gov/compound/1030'],\n",
            " 'Stearyl alcohol': [0.78953516,\n",
            "                     0.8413439,\n",
            "                     'https://pubchem.ncbi.nlm.nih.gov/compound/8221'],\n",
            " 'Water': [0, 0, 'https://pubchem.ncbi.nlm.nih.gov/compound/962']}\n"
          ]
        }
      ]
    },
    {
      "cell_type": "code",
      "source": [
        "print(dc.__version__)"
      ],
      "metadata": {
        "colab": {
          "base_uri": "https://localhost:8080/"
        },
        "id": "iXpG8x0TWTz1",
        "outputId": "16e81e41-1e77-4155-dccd-3af8c323038b"
      },
      "execution_count": null,
      "outputs": [
        {
          "output_type": "stream",
          "name": "stdout",
          "text": [
            "2.7.1\n"
          ]
        }
      ]
    },
    {
      "cell_type": "code",
      "source": [
        "!zip -r /content/tox_pred.zip /content/tox_pred"
      ],
      "metadata": {
        "colab": {
          "base_uri": "https://localhost:8080/"
        },
        "id": "2QBVhKRmZgaJ",
        "outputId": "790434b0-4079-4aa2-a55a-9af849edaadf"
      },
      "execution_count": null,
      "outputs": [
        {
          "output_type": "stream",
          "name": "stdout",
          "text": [
            "  adding: content/tox_pred/ (stored 0%)\n",
            "  adding: content/tox_pred/ckpt-4.index (deflated 81%)\n",
            "  adding: content/tox_pred/ckpt-1.index (deflated 81%)\n",
            "  adding: content/tox_pred/ckpt-3.index (deflated 81%)\n",
            "  adding: content/tox_pred/ckpt-3.data-00000-of-00001 (deflated 45%)\n",
            "  adding: content/tox_pred/ckpt-1.data-00000-of-00001 (deflated 46%)\n",
            "  adding: content/tox_pred/ckpt-2.data-00000-of-00001 (deflated 45%)\n",
            "  adding: content/tox_pred/checkpoint (deflated 69%)\n",
            "  adding: content/tox_pred/ckpt-4.data-00000-of-00001 (deflated 45%)\n",
            "  adding: content/tox_pred/ckpt-2.index (deflated 81%)\n"
          ]
        }
      ]
    },
    {
      "cell_type": "code",
      "source": [
        "from google.colab import files\n",
        "files.download(\"/content/tox_pred.zip\")"
      ],
      "metadata": {
        "colab": {
          "base_uri": "https://localhost:8080/",
          "height": 17
        },
        "id": "qIT6WCONc1ov",
        "outputId": "a7917d77-9a1e-4429-a5a6-4596cad7e143"
      },
      "execution_count": null,
      "outputs": [
        {
          "output_type": "display_data",
          "data": {
            "text/plain": [
              "<IPython.core.display.Javascript object>"
            ],
            "application/javascript": [
              "\n",
              "    async function download(id, filename, size) {\n",
              "      if (!google.colab.kernel.accessAllowed) {\n",
              "        return;\n",
              "      }\n",
              "      const div = document.createElement('div');\n",
              "      const label = document.createElement('label');\n",
              "      label.textContent = `Downloading \"${filename}\": `;\n",
              "      div.appendChild(label);\n",
              "      const progress = document.createElement('progress');\n",
              "      progress.max = size;\n",
              "      div.appendChild(progress);\n",
              "      document.body.appendChild(div);\n",
              "\n",
              "      const buffers = [];\n",
              "      let downloaded = 0;\n",
              "\n",
              "      const channel = await google.colab.kernel.comms.open(id);\n",
              "      // Send a message to notify the kernel that we're ready.\n",
              "      channel.send({})\n",
              "\n",
              "      for await (const message of channel.messages) {\n",
              "        // Send a message to notify the kernel that we're ready.\n",
              "        channel.send({})\n",
              "        if (message.buffers) {\n",
              "          for (const buffer of message.buffers) {\n",
              "            buffers.push(buffer);\n",
              "            downloaded += buffer.byteLength;\n",
              "            progress.value = downloaded;\n",
              "          }\n",
              "        }\n",
              "      }\n",
              "      const blob = new Blob(buffers, {type: 'application/binary'});\n",
              "      const a = document.createElement('a');\n",
              "      a.href = window.URL.createObjectURL(blob);\n",
              "      a.download = filename;\n",
              "      div.appendChild(a);\n",
              "      a.click();\n",
              "      div.remove();\n",
              "    }\n",
              "  "
            ]
          },
          "metadata": {}
        },
        {
          "output_type": "display_data",
          "data": {
            "text/plain": [
              "<IPython.core.display.Javascript object>"
            ],
            "application/javascript": [
              "download(\"download_e83a695b-4b46-4d2c-acf6-389f1938949c\", \"tox_pred.zip\", 5509557)"
            ]
          },
          "metadata": {}
        }
      ]
    },
    {
      "cell_type": "markdown",
      "source": [
        "### Human"
      ],
      "metadata": {
        "id": "Zc4kHlnRHJV0"
      }
    },
    {
      "cell_type": "code",
      "source": [
        "tasks, datasets, transformers = dc.molnet.load_hiv(featurizer='GraphConv')"
      ],
      "metadata": {
        "id": "IbilABzDc6Sa",
        "colab": {
          "base_uri": "https://localhost:8080/"
        },
        "outputId": "65e54101-46df-45a1-86b9-b5006d04d358"
      },
      "execution_count": null,
      "outputs": [
        {
          "output_type": "stream",
          "name": "stderr",
          "text": [
            "[14:53:36] WARNING: not removing hydrogen atom without neighbors\n",
            "[14:53:36] WARNING: not removing hydrogen atom without neighbors\n",
            "[14:54:14] WARNING: not removing hydrogen atom without neighbors\n",
            "[14:54:14] WARNING: not removing hydrogen atom without neighbors\n"
          ]
        }
      ]
    },
    {
      "cell_type": "code",
      "source": [
        "train_dataset, valid_dataset, test_dataset = datasets\n",
        "model_h = GraphConvModel(len(tasks), mode='classification')\n",
        "model_h.fit(train_dataset)\n",
        "metric = dc.metrics.Metric(dc.metrics.roc_auc_score, np.mean)\n",
        "scores = model_h.evaluate(test_dataset, [metric], transformers)\n",
        "print(scores)"
      ],
      "metadata": {
        "colab": {
          "base_uri": "https://localhost:8080/"
        },
        "id": "Xw5snLuZGxtE",
        "outputId": "a60028c4-2b54-4b8a-8a7b-50297e14a304"
      },
      "execution_count": null,
      "outputs": [
        {
          "output_type": "stream",
          "name": "stderr",
          "text": [
            "WARNING:tensorflow:5 out of the last 41 calls to <function KerasModel._compute_model at 0x7f31aa9d51f0> triggered tf.function retracing. Tracing is expensive and the excessive number of tracings could be due to (1) creating @tf.function repeatedly in a loop, (2) passing tensors with different shapes, (3) passing Python objects instead of tensors. For (1), please define your @tf.function outside of the loop. For (2), @tf.function has reduce_retracing=True option that can avoid unnecessary retracing. For (3), please refer to https://www.tensorflow.org/guide/function#controlling_retracing and https://www.tensorflow.org/api_docs/python/tf/function for  more details.\n",
            "WARNING:tensorflow:6 out of the last 42 calls to <function KerasModel._compute_model at 0x7f31aa9d51f0> triggered tf.function retracing. Tracing is expensive and the excessive number of tracings could be due to (1) creating @tf.function repeatedly in a loop, (2) passing tensors with different shapes, (3) passing Python objects instead of tensors. For (1), please define your @tf.function outside of the loop. For (2), @tf.function has reduce_retracing=True option that can avoid unnecessary retracing. For (3), please refer to https://www.tensorflow.org/guide/function#controlling_retracing and https://www.tensorflow.org/api_docs/python/tf/function for  more details.\n"
          ]
        },
        {
          "output_type": "stream",
          "name": "stdout",
          "text": [
            "{'mean-roc_auc_score': 0.7344116340601403}\n"
          ]
        }
      ]
    },
    {
      "cell_type": "code",
      "source": [
        "featurizer = dc.feat.graph_features.ConvMolFeaturizer()\n",
        "cetaphil_on_humans = {}\n",
        "for compound, name in compounds.items():\n",
        "  features = featurizer([compound])\n",
        "  human_skin_pred =  model.predict_on_batch(features)[0].mean(axis=0)[0]\n",
        "  cetaphil_on_humans[name.capitalize()] = human_skin_pred"
      ],
      "metadata": {
        "id": "ggiBqc7RIIkr"
      },
      "execution_count": null,
      "outputs": []
    },
    {
      "cell_type": "code",
      "source": [
        "pprint(cetaphil_on_humans)"
      ],
      "metadata": {
        "colab": {
          "base_uri": "https://localhost:8080/"
        },
        "id": "3ClToSwdH562",
        "outputId": "b80b54a0-7d5f-4d9c-b781-023e0068dfd8"
      },
      "execution_count": null,
      "outputs": [
        {
          "output_type": "stream",
          "name": "stdout",
          "text": [
            "{'Butylparaben': 0.6054374,\n",
            " 'Cetyl alcohol': 0.8463711,\n",
            " 'Methylparaben': 0.8001178,\n",
            " 'Propylparaben': 0.66281444,\n",
            " 'Sodium lauryl sulfate': 0.94492215,\n",
            " 'Stearyl alcohol': 0.84578824}\n"
          ]
        }
      ]
    },
    {
      "cell_type": "code",
      "source": [],
      "metadata": {
        "id": "IpHb4qL_K7uW"
      },
      "execution_count": null,
      "outputs": []
    }
  ]
}