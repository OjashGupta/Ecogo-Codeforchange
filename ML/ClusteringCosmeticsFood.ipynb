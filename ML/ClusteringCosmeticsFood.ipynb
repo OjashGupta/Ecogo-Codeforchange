{
  "cells": [
    {
      "cell_type": "markdown",
      "source": [
        "# Unsupervised K-Means Clustering for Sub-Category Identification"
      ],
      "metadata": {
        "id": "i3SFcuVJkci5"
      }
    },
    {
      "cell_type": "markdown",
      "metadata": {
        "id": "QMu_FzEZjn2J"
      },
      "source": [
        "## Cosmetics Clustering"
      ]
    },
    {
      "cell_type": "code",
      "execution_count": null,
      "metadata": {
        "id": "f5NDXrN2CtH7"
      },
      "outputs": [],
      "source": [
        "import os\n",
        "import json\n",
        "import gzip\n",
        "import pandas as pd\n",
        "from urllib.request import urlopen"
      ]
    },
    {
      "cell_type": "code",
      "execution_count": null,
      "metadata": {
        "id": "feWoOrmt4Tja",
        "colab": {
          "base_uri": "https://localhost:8080/"
        },
        "outputId": "1ac63689-dacf-49c9-aa81-57883c46f66c"
      },
      "outputs": [
        {
          "output_type": "stream",
          "name": "stdout",
          "text": [
            "--2023-05-21 13:49:20--  http://deepyeti.ucsd.edu/jianmo/amazon/sample/meta_All_Beauty.json.gz\n",
            "Resolving deepyeti.ucsd.edu (deepyeti.ucsd.edu)... 172.21.63.13\n",
            "Connecting to deepyeti.ucsd.edu (deepyeti.ucsd.edu)|172.21.63.13|:80... failed: Connection timed out.\n",
            "Retrying.\n",
            "\n",
            "--2023-05-21 13:51:33--  (try: 2)  http://deepyeti.ucsd.edu/jianmo/amazon/sample/meta_All_Beauty.json.gz\n",
            "Connecting to deepyeti.ucsd.edu (deepyeti.ucsd.edu)|172.21.63.13|:80... ^C\n"
          ]
        }
      ],
      "source": [
        "#!wget http://deepyeti.ucsd.edu/jianmo/amazon/sample/meta_All_Beauty.json.gz"
      ]
    },
    {
      "cell_type": "code",
      "execution_count": null,
      "metadata": {
        "colab": {
          "base_uri": "https://localhost:8080/"
        },
        "id": "7igYuRaV4bF7",
        "outputId": "127c0eaa-7c35-40e6-c03d-c4d994f65c26"
      },
      "outputs": [
        {
          "output_type": "stream",
          "name": "stdout",
          "text": [
            "32892\n"
          ]
        }
      ],
      "source": [
        "data = []\n",
        "with gzip.open('meta_All_Beauty.json.gz') as f:\n",
        "    for l in f:\n",
        "        data.append(json.loads(l.strip()))\n",
        "print(len(data))"
      ]
    },
    {
      "cell_type": "code",
      "execution_count": null,
      "metadata": {
        "id": "-gnNaDIpoD3E",
        "colab": {
          "base_uri": "https://localhost:8080/"
        },
        "outputId": "a08fcb1c-e264-47b2-f59c-50d4d2203661"
      },
      "outputs": [
        {
          "output_type": "stream",
          "name": "stdout",
          "text": [
            "dict_keys(['category', 'tech1', 'description', 'fit', 'title', 'also_buy', 'tech2', 'brand', 'feature', 'rank', 'also_view', 'details', 'main_cat', 'similar_item', 'date', 'price', 'asin', 'imageURL', 'imageURLHighRes'])\n",
            "Loud 'N Clear&trade; Personal Sound Amplifier\n",
            "No7 Lift &amp; Luminate Triple Action Serum 50ml by Boots\n",
            "No7 Stay Perfect Foundation Cool Vanilla by No7\n",
            "Wella Koleston Perfect Hair Colour 44/44 Medium Intense Red Brown 60ml\n",
            "Lacto Calamine Skin Balance Oil control 120 ml. (Pack of 2)\n"
          ]
        }
      ],
      "source": [
        "print(data[0].keys())\n",
        "for d in data[0:5]:\n",
        "  print(d['title'])"
      ]
    },
    {
      "cell_type": "code",
      "execution_count": null,
      "metadata": {
        "id": "tZymYUmXq8Hx"
      },
      "outputs": [],
      "source": [
        "data1 = data"
      ]
    },
    {
      "cell_type": "code",
      "execution_count": null,
      "metadata": {
        "colab": {
          "base_uri": "https://localhost:8080/"
        },
        "id": "knpHP22w4scK",
        "outputId": "5057b238-08b4-4b3d-facc-286e5529f70c"
      },
      "outputs": [
        {
          "output_type": "stream",
          "name": "stdout",
          "text": [
            "32892\n"
          ]
        }
      ],
      "source": [
        "df = pd.DataFrame.from_dict(data)\n",
        "\n",
        "print(len(df))"
      ]
    },
    {
      "cell_type": "code",
      "execution_count": null,
      "metadata": {
        "colab": {
          "base_uri": "https://localhost:8080/"
        },
        "id": "LgWrDtZ94w89",
        "outputId": "b3a42057-9e1d-4fbd-bbae-c2e5b18a3a89"
      },
      "outputs": [
        {
          "output_type": "stream",
          "name": "stdout",
          "text": [
            "0\n",
            "32892\n"
          ]
        }
      ],
      "source": [
        "df3 = df.fillna('')\n",
        "df4 = df3[df3.title.str.contains('getTime')]\n",
        "df5 = df3[~df3.title.str.contains('getTime')] \n",
        "print(len(df4))\n",
        "print(len(df5))"
      ]
    },
    {
      "cell_type": "code",
      "execution_count": null,
      "metadata": {
        "id": "ybBmZFl9q-cc"
      },
      "outputs": [],
      "source": [
        "data = df5"
      ]
    },
    {
      "cell_type": "code",
      "execution_count": null,
      "metadata": {
        "colab": {
          "base_uri": "https://localhost:8080/"
        },
        "id": "ewpP5JYkp9lh",
        "outputId": "555edfee-acd4-4fcc-8675-4f3e1a827ca8"
      },
      "outputs": [
        {
          "name": "stderr",
          "output_type": "stream",
          "text": [
            "<ipython-input-34-54e940324137>:7: FutureWarning: The default value of regex will change from True to False in a future version.\n",
            "  data['title'] = data['title'].str.replace('[^\\w\\s]','')\n",
            "<ipython-input-34-54e940324137>:8: FutureWarning: The default value of regex will change from True to False in a future version.\n",
            "  data['title'] = data['title'].str.replace('\\d+', '')\n"
          ]
        },
        {
          "name": "stdout",
          "output_type": "stream",
          "text": [
            "Cluster 0:\n",
            "hair\n",
            "wig\n",
            "clip\n",
            "wigs\n",
            "color\n",
            "women\n",
            "black\n",
            "straight\n",
            "cosplay\n",
            "long\n",
            "\n",
            "Cluster 1:\n",
            "cream\n",
            "oz\n",
            "ml\n",
            "skin\n",
            "amp\n",
            "pack\n",
            "eye\n",
            "hand\n",
            "spf\n",
            "bb\n",
            "\n",
            "Cluster 2:\n",
            "nail\n",
            "art\n",
            "polish\n",
            "manicure\n",
            "gel\n",
            "set\n",
            "stickers\n",
            "uv\n",
            "lacquer\n",
            "wraps\n",
            "\n",
            "Cluster 3:\n",
            "black\n",
            "set\n",
            "amp\n",
            "quot\n",
            "kit\n",
            "color\n",
            "eye\n",
            "white\n",
            "silver\n",
            "case\n",
            "\n",
            "Cluster 4:\n",
            "body\n",
            "oz\n",
            "lotion\n",
            "amp\n",
            "wash\n",
            "bath\n",
            "works\n",
            "pack\n",
            "hand\n",
            "fl\n",
            "\n"
          ]
        }
      ],
      "source": [
        "import pandas as pd\n",
        "from sklearn.feature_extraction.text import TfidfVectorizer\n",
        "from sklearn.cluster import KMeans\n",
        "import matplotlib.pyplot as plt\n",
        "\n",
        "\n",
        "data['title'] = data['title'].str.replace('[^\\w\\s]','')\n",
        "data['title'] = data['title'].str.replace('\\d+', '')\n",
        "data['title'] = data['title'].str.lower()"
      ]
    },
    {
      "cell_type": "code",
      "source": [],
      "metadata": {
        "id": "5qVqfYsTmC1x"
      },
      "execution_count": null,
      "outputs": []
    },
    {
      "cell_type": "code",
      "execution_count": null,
      "metadata": {
        "colab": {
          "base_uri": "https://localhost:8080/"
        },
        "id": "lfMHnAMZtS-U",
        "outputId": "261ecf38-309e-4078-f35d-cac2eeed4a07"
      },
      "outputs": [
        {
          "name": "stdout",
          "output_type": "stream",
          "text": [
            "Cluster 0:\n",
            "hair\n",
            "wig\n",
            "clip\n",
            "wigs\n",
            "color\n",
            "women\n",
            "black\n",
            "straight\n",
            "cosplay\n",
            "long\n",
            "\n",
            "Cluster 1:\n",
            "cream\n",
            "oz\n",
            "ml\n",
            "skin\n",
            "amp\n",
            "pack\n",
            "eye\n",
            "hand\n",
            "spf\n",
            "bb\n",
            "\n",
            "Cluster 2:\n",
            "nail\n",
            "art\n",
            "polish\n",
            "manicure\n",
            "gel\n",
            "set\n",
            "stickers\n",
            "uv\n",
            "lacquer\n",
            "wraps\n",
            "\n",
            "Cluster 3:\n",
            "black\n",
            "set\n",
            "amp\n",
            "quot\n",
            "kit\n",
            "color\n",
            "eye\n",
            "white\n",
            "silver\n",
            "case\n",
            "\n",
            "Cluster 4:\n",
            "body\n",
            "oz\n",
            "lotion\n",
            "amp\n",
            "wash\n",
            "bath\n",
            "works\n",
            "pack\n",
            "hand\n",
            "fl\n",
            "\n",
            "Cluster 5:\n",
            "oz\n",
            "pack\n",
            "spray\n",
            "fl\n",
            "amp\n",
            "gel\n",
            "eau\n",
            "shampoo\n",
            "lotion\n",
            "men\n",
            "\n",
            "Cluster 6:\n",
            "ounce\n",
            "soap\n",
            "bar\n",
            "pack\n",
            "oz\n",
            "fluid\n",
            "bars\n",
            "amp\n",
            "natural\n",
            "hand\n",
            "\n",
            "Cluster 7:\n",
            "lip\n",
            "gloss\n",
            "balm\n",
            "color\n",
            "pack\n",
            "lipstick\n",
            "matte\n",
            "wet\n",
            "wild\n",
            "liner\n",
            "\n",
            "Cluster 8:\n",
            "makeup\n",
            "cosmetic\n",
            "brush\n",
            "bag\n",
            "set\n",
            "palette\n",
            "case\n",
            "professional\n",
            "foundation\n",
            "pcs\n",
            "\n",
            "Cluster 9:\n",
            "skin\n",
            "care\n",
            "facial\n",
            "oz\n",
            "face\n",
            "amp\n",
            "sensitive\n",
            "dry\n",
            "natural\n",
            "serum\n",
            "\n",
            "Cluster 10:\n",
            "ml\n",
            "oil\n",
            "oz\n",
            "essential\n",
            "pure\n",
            "perfume\n",
            "fl\n",
            "organic\n",
            "fragrance\n",
            "amp\n",
            "\n"
          ]
        }
      ],
      "source": [
        "order_centroids = kmeans.cluster_centers_.argsort()[:, ::-1]\n",
        "terms = sorted(tfidf_vectorizer.vocabulary_.keys(), key=lambda x: tfidf_vectorizer.vocabulary_[x])\n",
        "for i in range(11):\n",
        "    print(f\"Cluster {i}:\")\n",
        "    for j in order_centroids[i, :10]:\n",
        "        print(f\"{terms[j]}\")\n",
        "    print()"
      ]
    },
    {
      "cell_type": "code",
      "execution_count": null,
      "metadata": {
        "colab": {
          "base_uri": "https://localhost:8080/"
        },
        "id": "Slx3lCsGqqd3",
        "outputId": "32002133-6cbf-4888-9506-3f4a6a5798ff"
      },
      "outputs": [
        {
          "name": "stdout",
          "output_type": "stream",
          "text": [
            "Predicted cluster for lakme makeup remover: 8\n"
          ]
        }
      ],
      "source": [
        "new_product = \"Lakme Makeup remover\"\n",
        "new_product = new_product.lower()\n",
        "new_product_tfidf = tfidf_vectorizer.transform([new_product])\n",
        "cluster = kmeans.predict(new_product_tfidf)\n",
        "print(f\"Predicted cluster for {new_product}: {cluster[0]}\")"
      ]
    },
    {
      "cell_type": "code",
      "execution_count": null,
      "metadata": {
        "colab": {
          "base_uri": "https://localhost:8080/"
        },
        "id": "TVqF_9twsfAC",
        "outputId": "95e6c252-b0e2-4775-8be9-a1a5a9d04fe4"
      },
      "outputs": [
        {
          "data": {
            "text/plain": [
              "['recommender.sav']"
            ]
          },
          "execution_count": 49,
          "metadata": {},
          "output_type": "execute_result"
        }
      ],
      "source": [
        "import joblib\n",
        "\n",
        "filename = 'recommender.sav'\n",
        "joblib.dump(kmeans, filename)\n"
      ]
    },
    {
      "cell_type": "code",
      "source": [
        "import joblib\n",
        "kmeans = joblib.load('/content/recommender.sav')"
      ],
      "metadata": {
        "id": "x-WKTsCWmNwy"
      },
      "execution_count": null,
      "outputs": []
    },
    {
      "cell_type": "code",
      "execution_count": null,
      "metadata": {
        "colab": {
          "base_uri": "https://localhost:8080/"
        },
        "id": "U4Lvig6NuGkY",
        "outputId": "cf4cc53a-ef63-40c9-f233-a8630c2eb682"
      },
      "outputs": [
        {
          "data": {
            "text/plain": [
              "['tfidf_vectorizer.sav']"
            ]
          },
          "execution_count": 50,
          "metadata": {},
          "output_type": "execute_result"
        }
      ],
      "source": [
        "filename = 'tfidf_vectorizer.sav'\n",
        "joblib.dump(tfidf_vectorizer, filename)"
      ]
    },
    {
      "cell_type": "code",
      "source": [],
      "metadata": {
        "id": "H6dqTbuJmGWx"
      },
      "execution_count": null,
      "outputs": []
    },
    {
      "cell_type": "code",
      "execution_count": null,
      "metadata": {
        "id": "t9JM9_jpvTaw"
      },
      "outputs": [],
      "source": [
        "data['clusters'] =  kmeans.labels_"
      ]
    },
    {
      "cell_type": "code",
      "execution_count": null,
      "metadata": {
        "id": "58yH6QAoyRdA"
      },
      "outputs": [],
      "source": [
        "data2 = data[:100]"
      ]
    },
    {
      "cell_type": "code",
      "execution_count": null,
      "metadata": {
        "colab": {
          "base_uri": "https://localhost:8080/"
        },
        "id": "LKQMbLuvue7K",
        "outputId": "5616904e-cd1d-4fba-fef1-2f2627a4e8c5"
      },
      "outputs": [
        {
          "name": "stdout",
          "output_type": "stream",
          "text": [
            "2578\n",
            "wella koleston perfect hair colour  medium intense red brown ml\n",
            "1197\n",
            "mary kay satin hands hand cream travel mini size set of \n",
            "1667\n",
            "revlon spa impressions nail care gift set  rvsp\n",
            "14474\n",
            "loud n cleartrade personal sound amplifier\n",
            "1493\n",
            "amino genesis cocoon rejuvenating body cregraveme\n",
            "4622\n",
            "jenna jameson heartbreaker perfume for women  oz eau de parfum spray\n",
            "1567\n",
            "old spice splash on cologne classic  fluid ounce\n",
            "892\n",
            "sephora brand super shimmer lip gloss think pink\n",
            "1142\n",
            "andrea faceqs face makeup remover pads   ea\n",
            "1127\n",
            "philips norelco hq cool skin replacement heads for  series\n",
            "2133\n",
            "no lift amp luminate triple action serum ml by boots\n"
          ]
        }
      ],
      "source": [
        "# colors = ['red', 'blue', 'green', 'yellow', 'purple', 'pink', 'cyan', 'black', 'orange', 'magenta', 'violet']\n",
        "# # fig, ax = plt.subplots()\n",
        "for i in range(11):\n",
        "    cluster = data[data['clusters'] == i]\n",
        "    print(len(cluster))\n",
        "    print(cluster['title'].iloc[0])"
      ]
    },
    {
      "cell_type": "code",
      "execution_count": null,
      "metadata": {
        "id": "C98nwPn4uwcy",
        "colab": {
          "base_uri": "https://localhost:8080/"
        },
        "outputId": "54f3a971-beb3-47a7-a2a9-b9f890ed8e8a"
      },
      "outputs": [
        {
          "output_type": "stream",
          "name": "stdout",
          "text": [
            "[\"Loud 'N Clear&trade; Personal Sound Amplifier\", 'No7 Stay Perfect Foundation Cool Vanilla by No7', 'Unique Custom Cast Iron Liner Shader Tattoo Machine E010541']\n",
            "['No7 Lift &amp; Luminate Triple Action Serum 50ml by Boots', 'Lacto Calamine Skin Balance Oil control 120 ml. (Pack of 2)', 'Shiseido Aquair Shampoo/Conditioner/Spray SET - 600ml*2 + 220ml']\n",
            "['Wella Koleston Perfect Hair Colour 44/44 Medium Intense Red Brown 60ml', 'Finally Free F-140 Ultra-Permanent Hair Removal System', 'Nair Hair Remover 4 Minute Lotion with Aloe &amp; Lanolin']\n",
            "['Mary Kay Satin Hands Hand Cream Travel MINI Size Set of 6', 'Finale Whitening Cream 30g. Armpit/inner thigh/elbow/knee. Specially formulated from high quality natural herbal extract', 'Carmol Enhanced Moisturizing Cream 3 oz (85 g)']\n",
            "['Amino Genesis Cocoon Rejuvenating Body Cr&egrave;me', 'Dove Nutrium Nutrient Beads Nourishing Body Wash 8 FL Oz.', 'St. Ives Extra Body Conditioner with Chamomile &amp; Sunflower - 20 fl oz']\n",
            "['Jenna Jameson Heartbreaker Perfume for women 3.4 oz Eau De Parfum Spray', 'Braun 3000 Series InterFace/Interface Excel Replacement Pack', 'Scope Original Mint Mouthwash 50.7 Fl Oz']\n",
            "['Philips Norelco HQ167 Cool Skin Replacement Heads for 6700 Series', 'Oxy Balance Daily Cleansing Pads, Normal Skin - 55 ea', 'St. Ives Advanced Therapy Lotion for Extra Dry Skin, Aloe Vera, 18 Ounces']\n",
            "['Old Spice Splash on Cologne, Classic, 6.37 Fluid Ounce', 'Aqua Velva After Shave, Classic Ice Blue, 7 Ounce', 'The Gillette Series Shave Gel, Deep Clean, 7-Ounce Bottle (Pack of 6)']\n",
            "[\"Andrea FaceQ's Face Make-Up Remover Pads - 50 ea\", 'Almay Gently Clean Non-Oily Face Makeup Remover Pads - 35 ea', 'Beauty Strokes Powder Foundation and Bronzer Brush']\n",
            "['Revlon Spa Impressions Nail Care Gift Set - RVS1200P1', 'Sally Hansen Chrome Nail Polish - Lilac Crystal #66', 'Super Nail Polish Thinner 4 Ounce (118ml)']\n",
            "['Sephora Brand Super Shimmer Lip Gloss Think Pink', 'Estee Lauder Automatic Pencil Lip Duo Refill Soft Pink', 'Sally Hansen Hair Removal, Facial: Spa Wax Facial Wand For Face, Brow, Lip &amp; Chin']\n"
          ]
        }
      ],
      "source": [
        "import pandas as pd\n",
        "\n",
        "clusters = data['clusters'].unique()\n",
        "for cluster in clusters:\n",
        "    cluster_data = data[data['clusters'] == cluster]   \n",
        "    three_products = cluster_data['title'].head(3).tolist()\n",
        "    print(three_products)"
      ]
    },
    {
      "cell_type": "markdown",
      "metadata": {
        "id": "0wXDaYZVjfyj"
      },
      "source": [
        "## Food clusters"
      ]
    },
    {
      "cell_type": "code",
      "execution_count": null,
      "metadata": {
        "id": "POlKBry3jiSv"
      },
      "outputs": [],
      "source": [
        "import os\n",
        "import json\n",
        "import gzip\n",
        "import pandas as pd\n",
        "from urllib.request import urlopen"
      ]
    },
    {
      "cell_type": "code",
      "execution_count": null,
      "metadata": {
        "colab": {
          "base_uri": "https://localhost:8080/"
        },
        "id": "xBwzZe0Ujm7k",
        "outputId": "61a643ac-582b-448c-dbf3-76b313d2d3fd"
      },
      "outputs": [
        {
          "output_type": "stream",
          "name": "stdout",
          "text": [
            "--2023-05-21 14:13:23--  https://fdc.nal.usda.gov/fdc-datasets/FoodData_Central_branded_food_csv_2023-04-20.zip\n",
            "Resolving fdc.nal.usda.gov (fdc.nal.usda.gov)... 52.245.228.37\n",
            "Connecting to fdc.nal.usda.gov (fdc.nal.usda.gov)|52.245.228.37|:443... connected.\n",
            "HTTP request sent, awaiting response... 200 OK\n",
            "Length: 394760761 (376M) [application/zip]\n",
            "Saving to: ‘FoodData_Central_branded_food_csv_2023-04-20.zip’\n",
            "\n",
            "FoodData_Central_br 100%[===================>] 376.47M  36.7MB/s    in 6.2s    \n",
            "\n",
            "2023-05-21 14:13:29 (60.6 MB/s) - ‘FoodData_Central_branded_food_csv_2023-04-20.zip’ saved [394760761/394760761]\n",
            "\n"
          ]
        }
      ],
      "source": [
        "!wget https://fdc.nal.usda.gov/fdc-datasets/FoodData_Central_branded_food_csv_2023-04-20.zip"
      ]
    },
    {
      "cell_type": "code",
      "execution_count": null,
      "metadata": {
        "colab": {
          "base_uri": "https://localhost:8080/"
        },
        "id": "ofr5PC43j8WO",
        "outputId": "3f0cae02-09a9-405a-e3f9-7cf73393cda9"
      },
      "outputs": [
        {
          "output_type": "stream",
          "name": "stdout",
          "text": [
            "Archive:  FoodData_Central_branded_food_csv_2023-04-20.zip\n",
            "   creating: branded apr 2023/\n",
            "  inflating: branded apr 2023/food.csv  \n",
            "  inflating: branded apr 2023/food_attribute.csv  \n",
            "  inflating: branded apr 2023/food_update_log_entry.csv  \n",
            "  inflating: branded apr 2023/food_nutrient.csv  \n",
            "  inflating: branded apr 2023/branded_food.csv  \n",
            "  inflating: branded apr 2023/microbe.csv  \n",
            "  inflating: branded apr 2023/food_attribute_type.csv  \n",
            "  inflating: branded apr 2023/measure_unit.csv  \n",
            "  inflating: branded apr 2023/all_downloaded_table_record_counts.csv  \n",
            "  inflating: branded apr 2023/Download & API Field Descriptions April 2023.pdf  \n",
            "  inflating: branded apr 2023/food_nutrient_derivation.csv  \n",
            "  inflating: branded apr 2023/food_nutrient_source.csv  \n",
            "  inflating: branded apr 2023/nutrient.csv  \n",
            "  inflating: branded apr 2023/nutrient_incoming_name.csv  \n"
          ]
        }
      ],
      "source": [
        "!unzip FoodData_Central_branded_food_csv_2023-04-20.zip"
      ]
    },
    {
      "cell_type": "code",
      "execution_count": null,
      "metadata": {
        "colab": {
          "base_uri": "https://localhost:8080/"
        },
        "id": "NkLypbjLj_qW",
        "outputId": "be20fbcd-3fdf-41fe-d971-4a3ebdf1bc55"
      },
      "outputs": [
        {
          "output_type": "stream",
          "name": "stderr",
          "text": [
            "<ipython-input-40-1312d2b3b493>:4: DtypeWarning: Columns (2,3,4,6,9,12,17,18,19) have mixed types. Specify dtype option on import or set low_memory=False.\n",
            "  df = pd.read_csv(data)\n"
          ]
        }
      ],
      "source": [
        "import pandas as pd\n",
        "\n",
        "data = '/content/branded apr 2023/branded_food.csv'\n",
        "df = pd.read_csv(data)"
      ]
    },
    {
      "cell_type": "code",
      "execution_count": null,
      "metadata": {
        "colab": {
          "base_uri": "https://localhost:8080/",
          "height": 300
        },
        "id": "jv_TYOAFlJIw",
        "outputId": "98eb5752-3574-4753-80ab-efe14a445f79"
      },
      "outputs": [
        {
          "output_type": "execute_result",
          "data": {
            "text/plain": [
              "             fdc_id  serving_size  discontinued_date\n",
              "count  1.807154e+06  1.796374e+06                0.0\n",
              "mean   1.490056e+06  3.705757e+02                NaN\n",
              "std    6.252272e+05  2.702392e+05                NaN\n",
              "min    3.446040e+05  0.000000e+00                NaN\n",
              "25%    1.031316e+06  2.800000e+01                NaN\n",
              "50%    1.536788e+06  4.500000e+01                NaN\n",
              "75%    2.015660e+06  1.130000e+02                NaN\n",
              "max    2.512370e+06  2.561132e+08                NaN"
            ],
            "text/html": [
              "\n",
              "  <div id=\"df-43d86dbe-458f-4e2e-acd2-f9f5f33afb3d\">\n",
              "    <div class=\"colab-df-container\">\n",
              "      <div>\n",
              "<style scoped>\n",
              "    .dataframe tbody tr th:only-of-type {\n",
              "        vertical-align: middle;\n",
              "    }\n",
              "\n",
              "    .dataframe tbody tr th {\n",
              "        vertical-align: top;\n",
              "    }\n",
              "\n",
              "    .dataframe thead th {\n",
              "        text-align: right;\n",
              "    }\n",
              "</style>\n",
              "<table border=\"1\" class=\"dataframe\">\n",
              "  <thead>\n",
              "    <tr style=\"text-align: right;\">\n",
              "      <th></th>\n",
              "      <th>fdc_id</th>\n",
              "      <th>serving_size</th>\n",
              "      <th>discontinued_date</th>\n",
              "    </tr>\n",
              "  </thead>\n",
              "  <tbody>\n",
              "    <tr>\n",
              "      <th>count</th>\n",
              "      <td>1.807154e+06</td>\n",
              "      <td>1.796374e+06</td>\n",
              "      <td>0.0</td>\n",
              "    </tr>\n",
              "    <tr>\n",
              "      <th>mean</th>\n",
              "      <td>1.490056e+06</td>\n",
              "      <td>3.705757e+02</td>\n",
              "      <td>NaN</td>\n",
              "    </tr>\n",
              "    <tr>\n",
              "      <th>std</th>\n",
              "      <td>6.252272e+05</td>\n",
              "      <td>2.702392e+05</td>\n",
              "      <td>NaN</td>\n",
              "    </tr>\n",
              "    <tr>\n",
              "      <th>min</th>\n",
              "      <td>3.446040e+05</td>\n",
              "      <td>0.000000e+00</td>\n",
              "      <td>NaN</td>\n",
              "    </tr>\n",
              "    <tr>\n",
              "      <th>25%</th>\n",
              "      <td>1.031316e+06</td>\n",
              "      <td>2.800000e+01</td>\n",
              "      <td>NaN</td>\n",
              "    </tr>\n",
              "    <tr>\n",
              "      <th>50%</th>\n",
              "      <td>1.536788e+06</td>\n",
              "      <td>4.500000e+01</td>\n",
              "      <td>NaN</td>\n",
              "    </tr>\n",
              "    <tr>\n",
              "      <th>75%</th>\n",
              "      <td>2.015660e+06</td>\n",
              "      <td>1.130000e+02</td>\n",
              "      <td>NaN</td>\n",
              "    </tr>\n",
              "    <tr>\n",
              "      <th>max</th>\n",
              "      <td>2.512370e+06</td>\n",
              "      <td>2.561132e+08</td>\n",
              "      <td>NaN</td>\n",
              "    </tr>\n",
              "  </tbody>\n",
              "</table>\n",
              "</div>\n",
              "      <button class=\"colab-df-convert\" onclick=\"convertToInteractive('df-43d86dbe-458f-4e2e-acd2-f9f5f33afb3d')\"\n",
              "              title=\"Convert this dataframe to an interactive table.\"\n",
              "              style=\"display:none;\">\n",
              "        \n",
              "  <svg xmlns=\"http://www.w3.org/2000/svg\" height=\"24px\"viewBox=\"0 0 24 24\"\n",
              "       width=\"24px\">\n",
              "    <path d=\"M0 0h24v24H0V0z\" fill=\"none\"/>\n",
              "    <path d=\"M18.56 5.44l.94 2.06.94-2.06 2.06-.94-2.06-.94-.94-2.06-.94 2.06-2.06.94zm-11 1L8.5 8.5l.94-2.06 2.06-.94-2.06-.94L8.5 2.5l-.94 2.06-2.06.94zm10 10l.94 2.06.94-2.06 2.06-.94-2.06-.94-.94-2.06-.94 2.06-2.06.94z\"/><path d=\"M17.41 7.96l-1.37-1.37c-.4-.4-.92-.59-1.43-.59-.52 0-1.04.2-1.43.59L10.3 9.45l-7.72 7.72c-.78.78-.78 2.05 0 2.83L4 21.41c.39.39.9.59 1.41.59.51 0 1.02-.2 1.41-.59l7.78-7.78 2.81-2.81c.8-.78.8-2.07 0-2.86zM5.41 20L4 18.59l7.72-7.72 1.47 1.35L5.41 20z\"/>\n",
              "  </svg>\n",
              "      </button>\n",
              "      \n",
              "  <style>\n",
              "    .colab-df-container {\n",
              "      display:flex;\n",
              "      flex-wrap:wrap;\n",
              "      gap: 12px;\n",
              "    }\n",
              "\n",
              "    .colab-df-convert {\n",
              "      background-color: #E8F0FE;\n",
              "      border: none;\n",
              "      border-radius: 50%;\n",
              "      cursor: pointer;\n",
              "      display: none;\n",
              "      fill: #1967D2;\n",
              "      height: 32px;\n",
              "      padding: 0 0 0 0;\n",
              "      width: 32px;\n",
              "    }\n",
              "\n",
              "    .colab-df-convert:hover {\n",
              "      background-color: #E2EBFA;\n",
              "      box-shadow: 0px 1px 2px rgba(60, 64, 67, 0.3), 0px 1px 3px 1px rgba(60, 64, 67, 0.15);\n",
              "      fill: #174EA6;\n",
              "    }\n",
              "\n",
              "    [theme=dark] .colab-df-convert {\n",
              "      background-color: #3B4455;\n",
              "      fill: #D2E3FC;\n",
              "    }\n",
              "\n",
              "    [theme=dark] .colab-df-convert:hover {\n",
              "      background-color: #434B5C;\n",
              "      box-shadow: 0px 1px 3px 1px rgba(0, 0, 0, 0.15);\n",
              "      filter: drop-shadow(0px 1px 2px rgba(0, 0, 0, 0.3));\n",
              "      fill: #FFFFFF;\n",
              "    }\n",
              "  </style>\n",
              "\n",
              "      <script>\n",
              "        const buttonEl =\n",
              "          document.querySelector('#df-43d86dbe-458f-4e2e-acd2-f9f5f33afb3d button.colab-df-convert');\n",
              "        buttonEl.style.display =\n",
              "          google.colab.kernel.accessAllowed ? 'block' : 'none';\n",
              "\n",
              "        async function convertToInteractive(key) {\n",
              "          const element = document.querySelector('#df-43d86dbe-458f-4e2e-acd2-f9f5f33afb3d');\n",
              "          const dataTable =\n",
              "            await google.colab.kernel.invokeFunction('convertToInteractive',\n",
              "                                                     [key], {});\n",
              "          if (!dataTable) return;\n",
              "\n",
              "          const docLinkHtml = 'Like what you see? Visit the ' +\n",
              "            '<a target=\"_blank\" href=https://colab.research.google.com/notebooks/data_table.ipynb>data table notebook</a>'\n",
              "            + ' to learn more about interactive tables.';\n",
              "          element.innerHTML = '';\n",
              "          dataTable['output_type'] = 'display_data';\n",
              "          await google.colab.output.renderOutput(dataTable, element);\n",
              "          const docLink = document.createElement('div');\n",
              "          docLink.innerHTML = docLinkHtml;\n",
              "          element.appendChild(docLink);\n",
              "        }\n",
              "      </script>\n",
              "    </div>\n",
              "  </div>\n",
              "  "
            ]
          },
          "metadata": {},
          "execution_count": 5
        }
      ],
      "source": [
        "df.describe()"
      ]
    },
    {
      "cell_type": "code",
      "execution_count": null,
      "metadata": {
        "colab": {
          "base_uri": "https://localhost:8080/"
        },
        "id": "_sx4O6K_s4W0",
        "outputId": "a81b784f-a188-4cf4-ef85-8586687d66be"
      },
      "outputs": [
        {
          "output_type": "stream",
          "name": "stdout",
          "text": [
            "<class 'pandas.core.frame.DataFrame'>\n",
            "RangeIndex: 1807154 entries, 0 to 1807153\n",
            "Data columns (total 20 columns):\n",
            " #   Column                       Dtype  \n",
            "---  ------                       -----  \n",
            " 0   fdc_id                       int64  \n",
            " 1   brand_owner                  object \n",
            " 2   brand_name                   object \n",
            " 3   subbrand_name                object \n",
            " 4   gtin_upc                     object \n",
            " 5   ingredients                  object \n",
            " 6   not_a_significant_source_of  object \n",
            " 7   serving_size                 float64\n",
            " 8   serving_size_unit            object \n",
            " 9   household_serving_fulltext   object \n",
            " 10  branded_food_category        object \n",
            " 11  data_source                  object \n",
            " 12  package_weight               object \n",
            " 13  modified_date                object \n",
            " 14  available_date               object \n",
            " 15  market_country               object \n",
            " 16  discontinued_date            float64\n",
            " 17  preparation_state_code       object \n",
            " 18  trade_channel                object \n",
            " 19  short_description            object \n",
            "dtypes: float64(2), int64(1), object(17)\n",
            "memory usage: 275.7+ MB\n"
          ]
        }
      ],
      "source": [
        "df.info()"
      ]
    },
    {
      "cell_type": "code",
      "execution_count": null,
      "metadata": {
        "id": "vk1UVG0rtAw8"
      },
      "outputs": [],
      "source": [
        "df = df[['brand_owner', 'fdc_id', 'branded_food_category', 'ingredients']]"
      ]
    },
    {
      "cell_type": "code",
      "execution_count": null,
      "metadata": {
        "colab": {
          "base_uri": "https://localhost:8080/"
        },
        "id": "gC9llQ0wtbDk",
        "outputId": "3528963b-a641-418f-d450-82c407b17bb8"
      },
      "outputs": [
        {
          "output_type": "execute_result",
          "data": {
            "text/plain": [
              "427"
            ]
          },
          "metadata": {},
          "execution_count": 8
        }
      ],
      "source": [
        "len(df['branded_food_category'].unique())"
      ]
    },
    {
      "cell_type": "code",
      "source": [
        "df"
      ],
      "metadata": {
        "colab": {
          "base_uri": "https://localhost:8080/",
          "height": 423
        },
        "id": "2_JIYbmvKwR-",
        "outputId": "95ada384-640d-439d-ec41-ab42754cd53a"
      },
      "execution_count": null,
      "outputs": [
        {
          "output_type": "execute_result",
          "data": {
            "text/plain": [
              "                                      brand_owner        gtin_upc  \\\n",
              "0        Richardson Oilseed Products (US) Limited     27000612323   \n",
              "1                           CAMPBELL SOUP COMPANY     51000198808   \n",
              "2                           CAMPBELL SOUP COMPANY     51000213273   \n",
              "3                           CAMPBELL SOUP COMPANY     51000213303   \n",
              "4                           CAMPBELL SOUP COMPANY     51000224637   \n",
              "...                                           ...             ...   \n",
              "1807149                           Cavendish Farms  10056210345001   \n",
              "1807150                            JTM Food Group  20049485054010   \n",
              "1807151                Peterson Farms Fresh, Inc.  10882266100673   \n",
              "1807152                 National Food Group  Inc.    185043000412   \n",
              "1807153                Incobrasa Industries, Ltd.    859872000683   \n",
              "\n",
              "                                  branded_food_category  \n",
              "0                                           Oils Edible  \n",
              "1                                 Herbs/Spices/Extracts  \n",
              "2                                        Prepared Soups  \n",
              "3                                        Prepared Soups  \n",
              "4                                 Herbs/Spices/Extracts  \n",
              "...                                                 ...  \n",
              "1807149                  Vegetables  Prepared/Processed  \n",
              "1807150  Meat/Poultry/Other Animals  Prepared/Processed  \n",
              "1807151                       Fruit  Prepared/Processed  \n",
              "1807152                       Fruit  Prepared/Processed  \n",
              "1807153                                     Oils Edible  \n",
              "\n",
              "[1807154 rows x 3 columns]"
            ],
            "text/html": [
              "\n",
              "  <div id=\"df-ef83cfea-0aeb-4793-b8f0-c591a7c77917\">\n",
              "    <div class=\"colab-df-container\">\n",
              "      <div>\n",
              "<style scoped>\n",
              "    .dataframe tbody tr th:only-of-type {\n",
              "        vertical-align: middle;\n",
              "    }\n",
              "\n",
              "    .dataframe tbody tr th {\n",
              "        vertical-align: top;\n",
              "    }\n",
              "\n",
              "    .dataframe thead th {\n",
              "        text-align: right;\n",
              "    }\n",
              "</style>\n",
              "<table border=\"1\" class=\"dataframe\">\n",
              "  <thead>\n",
              "    <tr style=\"text-align: right;\">\n",
              "      <th></th>\n",
              "      <th>brand_owner</th>\n",
              "      <th>gtin_upc</th>\n",
              "      <th>branded_food_category</th>\n",
              "    </tr>\n",
              "  </thead>\n",
              "  <tbody>\n",
              "    <tr>\n",
              "      <th>0</th>\n",
              "      <td>Richardson Oilseed Products (US) Limited</td>\n",
              "      <td>27000612323</td>\n",
              "      <td>Oils Edible</td>\n",
              "    </tr>\n",
              "    <tr>\n",
              "      <th>1</th>\n",
              "      <td>CAMPBELL SOUP COMPANY</td>\n",
              "      <td>51000198808</td>\n",
              "      <td>Herbs/Spices/Extracts</td>\n",
              "    </tr>\n",
              "    <tr>\n",
              "      <th>2</th>\n",
              "      <td>CAMPBELL SOUP COMPANY</td>\n",
              "      <td>51000213273</td>\n",
              "      <td>Prepared Soups</td>\n",
              "    </tr>\n",
              "    <tr>\n",
              "      <th>3</th>\n",
              "      <td>CAMPBELL SOUP COMPANY</td>\n",
              "      <td>51000213303</td>\n",
              "      <td>Prepared Soups</td>\n",
              "    </tr>\n",
              "    <tr>\n",
              "      <th>4</th>\n",
              "      <td>CAMPBELL SOUP COMPANY</td>\n",
              "      <td>51000224637</td>\n",
              "      <td>Herbs/Spices/Extracts</td>\n",
              "    </tr>\n",
              "    <tr>\n",
              "      <th>...</th>\n",
              "      <td>...</td>\n",
              "      <td>...</td>\n",
              "      <td>...</td>\n",
              "    </tr>\n",
              "    <tr>\n",
              "      <th>1807149</th>\n",
              "      <td>Cavendish Farms</td>\n",
              "      <td>10056210345001</td>\n",
              "      <td>Vegetables  Prepared/Processed</td>\n",
              "    </tr>\n",
              "    <tr>\n",
              "      <th>1807150</th>\n",
              "      <td>JTM Food Group</td>\n",
              "      <td>20049485054010</td>\n",
              "      <td>Meat/Poultry/Other Animals  Prepared/Processed</td>\n",
              "    </tr>\n",
              "    <tr>\n",
              "      <th>1807151</th>\n",
              "      <td>Peterson Farms Fresh, Inc.</td>\n",
              "      <td>10882266100673</td>\n",
              "      <td>Fruit  Prepared/Processed</td>\n",
              "    </tr>\n",
              "    <tr>\n",
              "      <th>1807152</th>\n",
              "      <td>National Food Group  Inc.</td>\n",
              "      <td>185043000412</td>\n",
              "      <td>Fruit  Prepared/Processed</td>\n",
              "    </tr>\n",
              "    <tr>\n",
              "      <th>1807153</th>\n",
              "      <td>Incobrasa Industries, Ltd.</td>\n",
              "      <td>859872000683</td>\n",
              "      <td>Oils Edible</td>\n",
              "    </tr>\n",
              "  </tbody>\n",
              "</table>\n",
              "<p>1807154 rows × 3 columns</p>\n",
              "</div>\n",
              "      <button class=\"colab-df-convert\" onclick=\"convertToInteractive('df-ef83cfea-0aeb-4793-b8f0-c591a7c77917')\"\n",
              "              title=\"Convert this dataframe to an interactive table.\"\n",
              "              style=\"display:none;\">\n",
              "        \n",
              "  <svg xmlns=\"http://www.w3.org/2000/svg\" height=\"24px\"viewBox=\"0 0 24 24\"\n",
              "       width=\"24px\">\n",
              "    <path d=\"M0 0h24v24H0V0z\" fill=\"none\"/>\n",
              "    <path d=\"M18.56 5.44l.94 2.06.94-2.06 2.06-.94-2.06-.94-.94-2.06-.94 2.06-2.06.94zm-11 1L8.5 8.5l.94-2.06 2.06-.94-2.06-.94L8.5 2.5l-.94 2.06-2.06.94zm10 10l.94 2.06.94-2.06 2.06-.94-2.06-.94-.94-2.06-.94 2.06-2.06.94z\"/><path d=\"M17.41 7.96l-1.37-1.37c-.4-.4-.92-.59-1.43-.59-.52 0-1.04.2-1.43.59L10.3 9.45l-7.72 7.72c-.78.78-.78 2.05 0 2.83L4 21.41c.39.39.9.59 1.41.59.51 0 1.02-.2 1.41-.59l7.78-7.78 2.81-2.81c.8-.78.8-2.07 0-2.86zM5.41 20L4 18.59l7.72-7.72 1.47 1.35L5.41 20z\"/>\n",
              "  </svg>\n",
              "      </button>\n",
              "      \n",
              "  <style>\n",
              "    .colab-df-container {\n",
              "      display:flex;\n",
              "      flex-wrap:wrap;\n",
              "      gap: 12px;\n",
              "    }\n",
              "\n",
              "    .colab-df-convert {\n",
              "      background-color: #E8F0FE;\n",
              "      border: none;\n",
              "      border-radius: 50%;\n",
              "      cursor: pointer;\n",
              "      display: none;\n",
              "      fill: #1967D2;\n",
              "      height: 32px;\n",
              "      padding: 0 0 0 0;\n",
              "      width: 32px;\n",
              "    }\n",
              "\n",
              "    .colab-df-convert:hover {\n",
              "      background-color: #E2EBFA;\n",
              "      box-shadow: 0px 1px 2px rgba(60, 64, 67, 0.3), 0px 1px 3px 1px rgba(60, 64, 67, 0.15);\n",
              "      fill: #174EA6;\n",
              "    }\n",
              "\n",
              "    [theme=dark] .colab-df-convert {\n",
              "      background-color: #3B4455;\n",
              "      fill: #D2E3FC;\n",
              "    }\n",
              "\n",
              "    [theme=dark] .colab-df-convert:hover {\n",
              "      background-color: #434B5C;\n",
              "      box-shadow: 0px 1px 3px 1px rgba(0, 0, 0, 0.15);\n",
              "      filter: drop-shadow(0px 1px 2px rgba(0, 0, 0, 0.3));\n",
              "      fill: #FFFFFF;\n",
              "    }\n",
              "  </style>\n",
              "\n",
              "      <script>\n",
              "        const buttonEl =\n",
              "          document.querySelector('#df-ef83cfea-0aeb-4793-b8f0-c591a7c77917 button.colab-df-convert');\n",
              "        buttonEl.style.display =\n",
              "          google.colab.kernel.accessAllowed ? 'block' : 'none';\n",
              "\n",
              "        async function convertToInteractive(key) {\n",
              "          const element = document.querySelector('#df-ef83cfea-0aeb-4793-b8f0-c591a7c77917');\n",
              "          const dataTable =\n",
              "            await google.colab.kernel.invokeFunction('convertToInteractive',\n",
              "                                                     [key], {});\n",
              "          if (!dataTable) return;\n",
              "\n",
              "          const docLinkHtml = 'Like what you see? Visit the ' +\n",
              "            '<a target=\"_blank\" href=https://colab.research.google.com/notebooks/data_table.ipynb>data table notebook</a>'\n",
              "            + ' to learn more about interactive tables.';\n",
              "          element.innerHTML = '';\n",
              "          dataTable['output_type'] = 'display_data';\n",
              "          await google.colab.output.renderOutput(dataTable, element);\n",
              "          const docLink = document.createElement('div');\n",
              "          docLink.innerHTML = docLinkHtml;\n",
              "          element.appendChild(docLink);\n",
              "        }\n",
              "      </script>\n",
              "    </div>\n",
              "  </div>\n",
              "  "
            ]
          },
          "metadata": {},
          "execution_count": 21
        }
      ]
    },
    {
      "cell_type": "code",
      "execution_count": null,
      "metadata": {
        "colab": {
          "base_uri": "https://localhost:8080/"
        },
        "id": "OTOFfXNTyYP8",
        "outputId": "77165433-19ef-4f0f-c8a8-5777769257b3"
      },
      "outputs": [
        {
          "output_type": "stream",
          "name": "stderr",
          "text": [
            "<ipython-input-42-ab3ae468469c>:5: FutureWarning: The default value of regex will change from True to False in a future version.\n",
            "  df['branded_food_category'] = df['branded_food_category'].str.replace('[^\\w\\s]','')\n",
            "<ipython-input-42-ab3ae468469c>:6: FutureWarning: The default value of regex will change from True to False in a future version.\n",
            "  df['branded_food_category'] = df['branded_food_category'].str.replace('\\d+', '')\n"
          ]
        }
      ],
      "source": [
        "import pandas as pd\n",
        "from sklearn.feature_extraction.text import TfidfVectorizer\n",
        "from sklearn.cluster import KMeans\n",
        "\n",
        "df['branded_food_category'] = df['branded_food_category'].str.replace('[^\\w\\s]','')\n",
        "df['branded_food_category'] = df['branded_food_category'].str.replace('\\d+', '')\n",
        "df['branded_food_category'] = df['branded_food_category'].str.lower()\n",
        "\n",
        "# df['ingredients'] = df['ingredients'].str.replace('[^\\w\\s]','')\n",
        "# df['ingredients'] = df['ingredients'].str.replace('\\d+', '')\n",
        "# df['ingredients'] = df['ingredients'].str.lower()\n",
        "\n",
        "df.dropna(subset=['branded_food_category'], inplace=True)\n",
        "df.dropna(subset=['ingredients'], inplace=True)\n",
        "\n",
        "food_categories = df[['branded_food_category', 'fdc_id', 'brand_owner']]"
      ]
    },
    {
      "cell_type": "code",
      "execution_count": null,
      "metadata": {
        "colab": {
          "base_uri": "https://localhost:8080/",
          "height": 423
        },
        "id": "IP_rACUCyecN",
        "outputId": "ea7e5b20-2a0e-44ed-fe77-0fd6f7d4201a"
      },
      "outputs": [
        {
          "output_type": "execute_result",
          "data": {
            "text/plain": [
              "                               branded_food_category  \\\n",
              "0                                        oils edible   \n",
              "1                                herbsspicesextracts   \n",
              "2                                     prepared soups   \n",
              "3                                     prepared soups   \n",
              "4                                herbsspicesextracts   \n",
              "...                                              ...   \n",
              "1807149                vegetables  preparedprocessed   \n",
              "1807150  meatpoultryother animals  preparedprocessed   \n",
              "1807151                     fruit  preparedprocessed   \n",
              "1807152                     fruit  preparedprocessed   \n",
              "1807153                                  oils edible   \n",
              "\n",
              "                                               ingredients  \n",
              "0                                            vegetable oil  \n",
              "1        ingredients beef stock contains less than  of ...  \n",
              "2        ingredients clam stock potatoes clams cream ve...  \n",
              "3        ingredients water cream broccoli celery vegeta...  \n",
              "4        ingredients chicken stock contains less than  ...  \n",
              "...                                                    ...  \n",
              "1807149  potatoes vegetable oil contains one or more of...  \n",
              "1807150  ground pork no more than  fat water tomato pas...  \n",
              "1807151  apples water natural flavor fruit and vegetabl...  \n",
              "1807152  apples water cinnamon natural flavor ascorbic ...  \n",
              "1807153                                        soybean oil  \n",
              "\n",
              "[1791264 rows x 2 columns]"
            ],
            "text/html": [
              "\n",
              "  <div id=\"df-1dbd697c-4e38-477b-86bd-1008002a8991\">\n",
              "    <div class=\"colab-df-container\">\n",
              "      <div>\n",
              "<style scoped>\n",
              "    .dataframe tbody tr th:only-of-type {\n",
              "        vertical-align: middle;\n",
              "    }\n",
              "\n",
              "    .dataframe tbody tr th {\n",
              "        vertical-align: top;\n",
              "    }\n",
              "\n",
              "    .dataframe thead th {\n",
              "        text-align: right;\n",
              "    }\n",
              "</style>\n",
              "<table border=\"1\" class=\"dataframe\">\n",
              "  <thead>\n",
              "    <tr style=\"text-align: right;\">\n",
              "      <th></th>\n",
              "      <th>branded_food_category</th>\n",
              "      <th>ingredients</th>\n",
              "    </tr>\n",
              "  </thead>\n",
              "  <tbody>\n",
              "    <tr>\n",
              "      <th>0</th>\n",
              "      <td>oils edible</td>\n",
              "      <td>vegetable oil</td>\n",
              "    </tr>\n",
              "    <tr>\n",
              "      <th>1</th>\n",
              "      <td>herbsspicesextracts</td>\n",
              "      <td>ingredients beef stock contains less than  of ...</td>\n",
              "    </tr>\n",
              "    <tr>\n",
              "      <th>2</th>\n",
              "      <td>prepared soups</td>\n",
              "      <td>ingredients clam stock potatoes clams cream ve...</td>\n",
              "    </tr>\n",
              "    <tr>\n",
              "      <th>3</th>\n",
              "      <td>prepared soups</td>\n",
              "      <td>ingredients water cream broccoli celery vegeta...</td>\n",
              "    </tr>\n",
              "    <tr>\n",
              "      <th>4</th>\n",
              "      <td>herbsspicesextracts</td>\n",
              "      <td>ingredients chicken stock contains less than  ...</td>\n",
              "    </tr>\n",
              "    <tr>\n",
              "      <th>...</th>\n",
              "      <td>...</td>\n",
              "      <td>...</td>\n",
              "    </tr>\n",
              "    <tr>\n",
              "      <th>1807149</th>\n",
              "      <td>vegetables  preparedprocessed</td>\n",
              "      <td>potatoes vegetable oil contains one or more of...</td>\n",
              "    </tr>\n",
              "    <tr>\n",
              "      <th>1807150</th>\n",
              "      <td>meatpoultryother animals  preparedprocessed</td>\n",
              "      <td>ground pork no more than  fat water tomato pas...</td>\n",
              "    </tr>\n",
              "    <tr>\n",
              "      <th>1807151</th>\n",
              "      <td>fruit  preparedprocessed</td>\n",
              "      <td>apples water natural flavor fruit and vegetabl...</td>\n",
              "    </tr>\n",
              "    <tr>\n",
              "      <th>1807152</th>\n",
              "      <td>fruit  preparedprocessed</td>\n",
              "      <td>apples water cinnamon natural flavor ascorbic ...</td>\n",
              "    </tr>\n",
              "    <tr>\n",
              "      <th>1807153</th>\n",
              "      <td>oils edible</td>\n",
              "      <td>soybean oil</td>\n",
              "    </tr>\n",
              "  </tbody>\n",
              "</table>\n",
              "<p>1791264 rows × 2 columns</p>\n",
              "</div>\n",
              "      <button class=\"colab-df-convert\" onclick=\"convertToInteractive('df-1dbd697c-4e38-477b-86bd-1008002a8991')\"\n",
              "              title=\"Convert this dataframe to an interactive table.\"\n",
              "              style=\"display:none;\">\n",
              "        \n",
              "  <svg xmlns=\"http://www.w3.org/2000/svg\" height=\"24px\"viewBox=\"0 0 24 24\"\n",
              "       width=\"24px\">\n",
              "    <path d=\"M0 0h24v24H0V0z\" fill=\"none\"/>\n",
              "    <path d=\"M18.56 5.44l.94 2.06.94-2.06 2.06-.94-2.06-.94-.94-2.06-.94 2.06-2.06.94zm-11 1L8.5 8.5l.94-2.06 2.06-.94-2.06-.94L8.5 2.5l-.94 2.06-2.06.94zm10 10l.94 2.06.94-2.06 2.06-.94-2.06-.94-.94-2.06-.94 2.06-2.06.94z\"/><path d=\"M17.41 7.96l-1.37-1.37c-.4-.4-.92-.59-1.43-.59-.52 0-1.04.2-1.43.59L10.3 9.45l-7.72 7.72c-.78.78-.78 2.05 0 2.83L4 21.41c.39.39.9.59 1.41.59.51 0 1.02-.2 1.41-.59l7.78-7.78 2.81-2.81c.8-.78.8-2.07 0-2.86zM5.41 20L4 18.59l7.72-7.72 1.47 1.35L5.41 20z\"/>\n",
              "  </svg>\n",
              "      </button>\n",
              "      \n",
              "  <style>\n",
              "    .colab-df-container {\n",
              "      display:flex;\n",
              "      flex-wrap:wrap;\n",
              "      gap: 12px;\n",
              "    }\n",
              "\n",
              "    .colab-df-convert {\n",
              "      background-color: #E8F0FE;\n",
              "      border: none;\n",
              "      border-radius: 50%;\n",
              "      cursor: pointer;\n",
              "      display: none;\n",
              "      fill: #1967D2;\n",
              "      height: 32px;\n",
              "      padding: 0 0 0 0;\n",
              "      width: 32px;\n",
              "    }\n",
              "\n",
              "    .colab-df-convert:hover {\n",
              "      background-color: #E2EBFA;\n",
              "      box-shadow: 0px 1px 2px rgba(60, 64, 67, 0.3), 0px 1px 3px 1px rgba(60, 64, 67, 0.15);\n",
              "      fill: #174EA6;\n",
              "    }\n",
              "\n",
              "    [theme=dark] .colab-df-convert {\n",
              "      background-color: #3B4455;\n",
              "      fill: #D2E3FC;\n",
              "    }\n",
              "\n",
              "    [theme=dark] .colab-df-convert:hover {\n",
              "      background-color: #434B5C;\n",
              "      box-shadow: 0px 1px 3px 1px rgba(0, 0, 0, 0.15);\n",
              "      filter: drop-shadow(0px 1px 2px rgba(0, 0, 0, 0.3));\n",
              "      fill: #FFFFFF;\n",
              "    }\n",
              "  </style>\n",
              "\n",
              "      <script>\n",
              "        const buttonEl =\n",
              "          document.querySelector('#df-1dbd697c-4e38-477b-86bd-1008002a8991 button.colab-df-convert');\n",
              "        buttonEl.style.display =\n",
              "          google.colab.kernel.accessAllowed ? 'block' : 'none';\n",
              "\n",
              "        async function convertToInteractive(key) {\n",
              "          const element = document.querySelector('#df-1dbd697c-4e38-477b-86bd-1008002a8991');\n",
              "          const dataTable =\n",
              "            await google.colab.kernel.invokeFunction('convertToInteractive',\n",
              "                                                     [key], {});\n",
              "          if (!dataTable) return;\n",
              "\n",
              "          const docLinkHtml = 'Like what you see? Visit the ' +\n",
              "            '<a target=\"_blank\" href=https://colab.research.google.com/notebooks/data_table.ipynb>data table notebook</a>'\n",
              "            + ' to learn more about interactive tables.';\n",
              "          element.innerHTML = '';\n",
              "          dataTable['output_type'] = 'display_data';\n",
              "          await google.colab.output.renderOutput(dataTable, element);\n",
              "          const docLink = document.createElement('div');\n",
              "          docLink.innerHTML = docLinkHtml;\n",
              "          element.appendChild(docLink);\n",
              "        }\n",
              "      </script>\n",
              "    </div>\n",
              "  </div>\n",
              "  "
            ]
          },
          "metadata": {},
          "execution_count": 19
        }
      ],
      "source": [
        "food_categories"
      ]
    },
    {
      "cell_type": "code",
      "source": [
        "fc = df['merged_column'] = df.apply(lambda row: row['branded_food_category'] + ' ' + row['ingredients'], axis=1)"
      ],
      "metadata": {
        "id": "BNhaSWZvM1cv"
      },
      "execution_count": null,
      "outputs": []
    },
    {
      "cell_type": "code",
      "execution_count": null,
      "metadata": {
        "colab": {
          "base_uri": "https://localhost:8080/"
        },
        "id": "1sNa9_I40kGU",
        "outputId": "18ece33f-5467-4f0f-fe74-41e40be9a3a8"
      },
      "outputs": [
        {
          "output_type": "execute_result",
          "data": {
            "text/plain": [
              "1791264"
            ]
          },
          "metadata": {},
          "execution_count": 20
        }
      ],
      "source": [
        "len(food_categories)"
      ]
    },
    {
      "cell_type": "code",
      "execution_count": null,
      "metadata": {
        "colab": {
          "base_uri": "https://localhost:8080/"
        },
        "id": "Jg5ODyFr0ieV",
        "outputId": "d2643303-12fa-47ed-da5c-e6edbfb20c03"
      },
      "outputs": [
        {
          "output_type": "execute_result",
          "data": {
            "text/plain": [
              "412"
            ]
          },
          "metadata": {},
          "execution_count": 21
        }
      ],
      "source": [
        "len(df['branded_food_category'].unique())"
      ]
    },
    {
      "cell_type": "code",
      "execution_count": null,
      "metadata": {
        "id": "aULijXyn4W3t"
      },
      "outputs": [],
      "source": [
        "tfidf_vectorizer = TfidfVectorizer(stop_words='english')\n",
        "tfidf_matrix = tfidf_vectorizer.fit_transform(food_categories['branded_food_category'])"
      ]
    },
    {
      "cell_type": "code",
      "source": [
        "kmeans = KMeans(n_clusters=11)\n",
        "kmeans.fit(tfidf_matrix)"
      ],
      "metadata": {
        "colab": {
          "base_uri": "https://localhost:8080/",
          "height": 129
        },
        "id": "KQKWG0HXMaKj",
        "outputId": "d7c5aff1-23d2-4c7e-fd3b-2674f2fb2f79"
      },
      "execution_count": null,
      "outputs": [
        {
          "output_type": "stream",
          "name": "stderr",
          "text": [
            "/usr/local/lib/python3.10/dist-packages/sklearn/cluster/_kmeans.py:870: FutureWarning: The default value of `n_init` will change from 10 to 'auto' in 1.4. Set the value of `n_init` explicitly to suppress the warning\n",
            "  warnings.warn(\n"
          ]
        },
        {
          "output_type": "execute_result",
          "data": {
            "text/plain": [
              "KMeans(n_clusters=11)"
            ],
            "text/html": [
              "<style>#sk-container-id-2 {color: black;background-color: white;}#sk-container-id-2 pre{padding: 0;}#sk-container-id-2 div.sk-toggleable {background-color: white;}#sk-container-id-2 label.sk-toggleable__label {cursor: pointer;display: block;width: 100%;margin-bottom: 0;padding: 0.3em;box-sizing: border-box;text-align: center;}#sk-container-id-2 label.sk-toggleable__label-arrow:before {content: \"▸\";float: left;margin-right: 0.25em;color: #696969;}#sk-container-id-2 label.sk-toggleable__label-arrow:hover:before {color: black;}#sk-container-id-2 div.sk-estimator:hover label.sk-toggleable__label-arrow:before {color: black;}#sk-container-id-2 div.sk-toggleable__content {max-height: 0;max-width: 0;overflow: hidden;text-align: left;background-color: #f0f8ff;}#sk-container-id-2 div.sk-toggleable__content pre {margin: 0.2em;color: black;border-radius: 0.25em;background-color: #f0f8ff;}#sk-container-id-2 input.sk-toggleable__control:checked~div.sk-toggleable__content {max-height: 200px;max-width: 100%;overflow: auto;}#sk-container-id-2 input.sk-toggleable__control:checked~label.sk-toggleable__label-arrow:before {content: \"▾\";}#sk-container-id-2 div.sk-estimator input.sk-toggleable__control:checked~label.sk-toggleable__label {background-color: #d4ebff;}#sk-container-id-2 div.sk-label input.sk-toggleable__control:checked~label.sk-toggleable__label {background-color: #d4ebff;}#sk-container-id-2 input.sk-hidden--visually {border: 0;clip: rect(1px 1px 1px 1px);clip: rect(1px, 1px, 1px, 1px);height: 1px;margin: -1px;overflow: hidden;padding: 0;position: absolute;width: 1px;}#sk-container-id-2 div.sk-estimator {font-family: monospace;background-color: #f0f8ff;border: 1px dotted black;border-radius: 0.25em;box-sizing: border-box;margin-bottom: 0.5em;}#sk-container-id-2 div.sk-estimator:hover {background-color: #d4ebff;}#sk-container-id-2 div.sk-parallel-item::after {content: \"\";width: 100%;border-bottom: 1px solid gray;flex-grow: 1;}#sk-container-id-2 div.sk-label:hover label.sk-toggleable__label {background-color: #d4ebff;}#sk-container-id-2 div.sk-serial::before {content: \"\";position: absolute;border-left: 1px solid gray;box-sizing: border-box;top: 0;bottom: 0;left: 50%;z-index: 0;}#sk-container-id-2 div.sk-serial {display: flex;flex-direction: column;align-items: center;background-color: white;padding-right: 0.2em;padding-left: 0.2em;position: relative;}#sk-container-id-2 div.sk-item {position: relative;z-index: 1;}#sk-container-id-2 div.sk-parallel {display: flex;align-items: stretch;justify-content: center;background-color: white;position: relative;}#sk-container-id-2 div.sk-item::before, #sk-container-id-2 div.sk-parallel-item::before {content: \"\";position: absolute;border-left: 1px solid gray;box-sizing: border-box;top: 0;bottom: 0;left: 50%;z-index: -1;}#sk-container-id-2 div.sk-parallel-item {display: flex;flex-direction: column;z-index: 1;position: relative;background-color: white;}#sk-container-id-2 div.sk-parallel-item:first-child::after {align-self: flex-end;width: 50%;}#sk-container-id-2 div.sk-parallel-item:last-child::after {align-self: flex-start;width: 50%;}#sk-container-id-2 div.sk-parallel-item:only-child::after {width: 0;}#sk-container-id-2 div.sk-dashed-wrapped {border: 1px dashed gray;margin: 0 0.4em 0.5em 0.4em;box-sizing: border-box;padding-bottom: 0.4em;background-color: white;}#sk-container-id-2 div.sk-label label {font-family: monospace;font-weight: bold;display: inline-block;line-height: 1.2em;}#sk-container-id-2 div.sk-label-container {text-align: center;}#sk-container-id-2 div.sk-container {/* jupyter's `normalize.less` sets `[hidden] { display: none; }` but bootstrap.min.css set `[hidden] { display: none !important; }` so we also need the `!important` here to be able to override the default hidden behavior on the sphinx rendered scikit-learn.org. See: https://github.com/scikit-learn/scikit-learn/issues/21755 */display: inline-block !important;position: relative;}#sk-container-id-2 div.sk-text-repr-fallback {display: none;}</style><div id=\"sk-container-id-2\" class=\"sk-top-container\"><div class=\"sk-text-repr-fallback\"><pre>KMeans(n_clusters=11)</pre><b>In a Jupyter environment, please rerun this cell to show the HTML representation or trust the notebook. <br />On GitHub, the HTML representation is unable to render, please try loading this page with nbviewer.org.</b></div><div class=\"sk-container\" hidden><div class=\"sk-item\"><div class=\"sk-estimator sk-toggleable\"><input class=\"sk-toggleable__control sk-hidden--visually\" id=\"sk-estimator-id-2\" type=\"checkbox\" checked><label for=\"sk-estimator-id-2\" class=\"sk-toggleable__label sk-toggleable__label-arrow\">KMeans</label><div class=\"sk-toggleable__content\"><pre>KMeans(n_clusters=11)</pre></div></div></div></div></div>"
            ]
          },
          "metadata": {},
          "execution_count": 39
        }
      ]
    },
    {
      "cell_type": "code",
      "execution_count": null,
      "metadata": {
        "colab": {
          "base_uri": "https://localhost:8080/"
        },
        "id": "XHAJYGzNxi9m",
        "outputId": "da67760f-0615-4872-9b03-5227991742e3"
      },
      "outputs": [
        {
          "output_type": "stream",
          "name": "stderr",
          "text": [
            "/usr/local/lib/python3.10/dist-packages/sklearn/cluster/_kmeans.py:870: FutureWarning: The default value of `n_init` will change from 10 to 'auto' in 1.4. Set the value of `n_init` explicitly to suppress the warning\n",
            "  warnings.warn(\n"
          ]
        }
      ],
      "source": [
        "import matplotlib.pyplot as plt\n",
        "from sklearn.cluster import KMeans\n",
        "\n",
        "wcss = []\n",
        "for k in range(1, 21):\n",
        "    kmeans = KMeans(n_clusters=k)\n",
        "    kmeans.fit(tfidf_matrix)\n",
        "    wcss.append(kmeans.inertia_)"
      ]
    },
    {
      "cell_type": "code",
      "source": [
        "import joblib\n",
        "kmeans = joblib.load('/content/recommender2.sav')"
      ],
      "metadata": {
        "id": "Ux-r0Ga3qzi2"
      },
      "execution_count": null,
      "outputs": []
    },
    {
      "cell_type": "code",
      "execution_count": null,
      "metadata": {
        "id": "Oz1XOYCe4VGW"
      },
      "outputs": [],
      "source": [
        "cluster_labels = kmeans.labels_\n",
        "df['subcategory'] = cluster_labels\n",
        "\n",
        "subcategories = df[['brand_owner', 'branded_food_category', 'fdc_id', 'subcategory']].drop_duplicates().sort_values('subcategory')"
      ]
    },
    {
      "cell_type": "code",
      "execution_count": null,
      "metadata": {
        "colab": {
          "base_uri": "https://localhost:8080/"
        },
        "id": "3hbPWH2fxjCf",
        "outputId": "0946e7a7-0920-4ee8-8812-a59a7b74340e"
      },
      "outputs": [
        {
          "output_type": "stream",
          "name": "stdout",
          "text": [
            "                           brand_owner             branded_food_category  \\\n",
            "1475958              Green Cuisine LLC  pickles olives peppers  relishes   \n",
            "66746             ROYAL CURRY-DELIGHTS  pickles olives peppers  relishes   \n",
            "1151014  Cincinnati Preserving Company  pickles olives peppers  relishes   \n",
            "732694                    La Rocca Srl  pickles olives peppers  relishes   \n",
            "1604232     Amerifoods Trading Company  pickles olives peppers  relishes   \n",
            "...                                ...                               ...   \n",
            "1702600    Wegmans Food Markets, Inc.       prepared pasta  pizza sauces   \n",
            "271515           Mid's Spaghetti Sauce      prepared pasta  pizza sauces   \n",
            "1621607                      Aldi Inc.      prepared pasta  pizza sauces   \n",
            "743274             General Mills, Inc.                             pizza   \n",
            "1149431  Cincinnati Preserving Company      prepared pasta  pizza sauces   \n",
            "\n",
            "          fdc_id  subcategory  \n",
            "1475958  2138701            0  \n",
            "66746     378383            0  \n",
            "1151014  1765119            0  \n",
            "732694   1326132            0  \n",
            "1604232  2285037            0  \n",
            "...          ...          ...  \n",
            "1702600  2407817           10  \n",
            "271515    585358           10  \n",
            "1621607  2302580           10  \n",
            "743274   1338518           10  \n",
            "1149431  1763526           10  \n",
            "\n",
            "[1791264 rows x 4 columns]\n"
          ]
        }
      ],
      "source": [
        "print(subcategories)"
      ]
    },
    {
      "cell_type": "code",
      "source": [
        "import pandas as pd\n",
        "\n",
        "clusters = subcategories['subcategory'].unique()\n",
        "for cluster in clusters:\n",
        "    cluster_data = subcategories[subcategories['subcategory'] == cluster]   \n",
        "    three_products = cluster_data['fdc_id'].head(3).tolist()\n",
        "    print(three_products)"
      ],
      "metadata": {
        "colab": {
          "base_uri": "https://localhost:8080/"
        },
        "id": "GBYU8lNepKTH",
        "outputId": "a87eee74-8081-410b-c2cf-c22bab35e324"
      },
      "execution_count": null,
      "outputs": [
        {
          "output_type": "stream",
          "name": "stdout",
          "text": [
            "[2138701, 378383, 1765119]\n",
            "[1979467, 1854444, 2367629]\n",
            "[1566876, 1745414, 2280126]\n",
            "[1515255, 2196804, 398930]\n",
            "[1545253, 1948766, 1948659]\n",
            "[2387920, 1668299, 1715484]\n",
            "[1357766, 1688708, 409244]\n",
            "[1719683, 1715320, 1917790]\n",
            "[1570980, 1126769, 417237]\n",
            "[2242118, 1256913, 1640977]\n",
            "[2396742, 567012, 1260189]\n"
          ]
        }
      ]
    },
    {
      "cell_type": "code",
      "execution_count": null,
      "metadata": {
        "colab": {
          "base_uri": "https://localhost:8080/"
        },
        "id": "A6SgRdbw0_jW",
        "outputId": "cf2656df-3c9f-4986-8aa0-0c9a3d95dc4f"
      },
      "outputs": [
        {
          "output_type": "execute_result",
          "data": {
            "text/plain": [
              "7     878570\n",
              "4     185679\n",
              "5     162338\n",
              "3     104802\n",
              "6     102842\n",
              "8      86228\n",
              "2      81964\n",
              "9      63740\n",
              "1      49574\n",
              "0      41660\n",
              "10     33867\n",
              "Name: subcategory, dtype: int64"
            ]
          },
          "metadata": {},
          "execution_count": 42
        }
      ],
      "source": [
        "df['subcategory'].value_counts()"
      ]
    },
    {
      "cell_type": "code",
      "execution_count": null,
      "metadata": {
        "colab": {
          "base_uri": "https://localhost:8080/"
        },
        "id": "kRzUZYNzxjHF",
        "outputId": "23805c3f-13e8-4c1c-833b-a269b7192c77"
      },
      "outputs": [
        {
          "output_type": "stream",
          "name": "stdout",
          "text": [
            "Cluster 0:\n",
            "peppers\n",
            "olives\n",
            "pickles\n",
            "relishes\n",
            "entrees\n",
            "fat\n",
            "extractssaltmeat\n",
            "extracts\n",
            "extend\n",
            "excludes\n",
            "\n",
            "Cluster 1:\n",
            "cookies\n",
            "biscuits\n",
            "yogurtyogurt\n",
            "ethnic\n",
            "fat\n",
            "extractssaltmeat\n",
            "extracts\n",
            "extend\n",
            "excludes\n",
            "entrees\n",
            "\n",
            "Cluster 2:\n",
            "candy\n",
            "yogurtyogurt\n",
            "entrees\n",
            "fats\n",
            "fat\n",
            "extractssaltmeat\n",
            "extracts\n",
            "extend\n",
            "excludes\n",
            "ethnic\n",
            "\n",
            "Cluster 3:\n",
            "snacks\n",
            "pretzels\n",
            "chips\n",
            "wholesome\n",
            "fat\n",
            "extractssaltmeat\n",
            "extracts\n",
            "extend\n",
            "excludes\n",
            "ethnic\n",
            "\n",
            "Cluster 4:\n",
            "yogurt\n",
            "frozen\n",
            "cream\n",
            "ice\n",
            "vegetables\n",
            "entrees\n",
            "dinners\n",
            "appetizers\n",
            "doeuvres\n",
            "hors\n",
            "\n",
            "Cluster 5:\n",
            "fruit\n",
            "canned\n",
            "vegetables\n",
            "juice\n",
            "nectars\n",
            "prepackaged\n",
            "vegetable\n",
            "drinks\n",
            "soup\n",
            "bottled\n",
            "\n",
            "Cluster 6:\n",
            "cheese\n",
            "mustard\n",
            "ketchup\n",
            "bbq\n",
            "sauce\n",
            "novelties\n",
            "processed\n",
            "yogurtyogurt\n",
            "extracts\n",
            "extend\n",
            "\n",
            "Cluster 7:\n",
            "cereal\n",
            "chocolate\n",
            "drinks\n",
            "buns\n",
            "breads\n",
            "soda\n",
            "snack\n",
            "milk\n",
            "cakes\n",
            "water\n",
            "\n",
            "Cluster 8:\n",
            "peanuts\n",
            "related\n",
            "popcorn\n",
            "seeds\n",
            "snacks\n",
            "extracts\n",
            "extend\n",
            "excludes\n",
            "ethnic\n",
            "entrees\n",
            "\n",
            "Cluster 9:\n",
            "mixes\n",
            "salts\n",
            "tenderizers\n",
            "marinades\n",
            "seasoning\n",
            "cookie\n",
            "cupcake\n",
            "cake\n",
            "lentil\n",
            "dinner\n",
            "\n",
            "Cluster 10:\n",
            "pizza\n",
            "prepared\n",
            "sauces\n",
            "pasta\n",
            "dry\n",
            "dinners\n",
            "mixes\n",
            "yogurtyogurt\n",
            "entrees\n",
            "extend\n",
            "\n"
          ]
        }
      ],
      "source": [
        "order_centroids = kmeans.cluster_centers_.argsort()[:, ::-1]\n",
        "terms = sorted(tfidf_vectorizer.vocabulary_.keys(), key=lambda x: tfidf_vectorizer.vocabulary_[x])\n",
        "for i in range(11):\n",
        "    print(f\"Cluster {i}:\")\n",
        "    for j in order_centroids[i, :10]:\n",
        "        print(f\"{terms[j]}\")\n",
        "    print()"
      ]
    },
    {
      "cell_type": "code",
      "execution_count": null,
      "metadata": {
        "colab": {
          "base_uri": "https://localhost:8080/"
        },
        "id": "X7FocG5f3tpC",
        "outputId": "d965b4e9-21a1-45a5-9f29-cef69084017b"
      },
      "outputs": [
        {
          "output_type": "stream",
          "name": "stdout",
          "text": [
            "Predicted cluster for soda: 7\n"
          ]
        }
      ],
      "source": [
        "new_product = \"soda\"\n",
        "new_product = new_product.lower()\n",
        "new_product_tfidf = tfidf_vectorizer.transform([new_product])\n",
        "cluster = kmeans.predict(new_product_tfidf)\n",
        "print(f\"Predicted cluster for {new_product}: {cluster[0]}\")"
      ]
    },
    {
      "cell_type": "code",
      "execution_count": null,
      "metadata": {
        "id": "uM45eXG53zsB",
        "colab": {
          "base_uri": "https://localhost:8080/"
        },
        "outputId": "16edf097-c136-4bf4-a6a6-0d06864681d7"
      },
      "outputs": [
        {
          "output_type": "execute_result",
          "data": {
            "text/plain": [
              "['recommender2.sav']"
            ]
          },
          "metadata": {},
          "execution_count": 46
        }
      ],
      "source": [
        "import joblib\n",
        "\n",
        "filename = 'recommender2.sav'\n",
        "joblib.dump(kmeans, filename)"
      ]
    },
    {
      "cell_type": "code",
      "source": [
        "filename = 'tfidf_vectorizer2.sav'\n",
        "joblib.dump(tfidf_vectorizer, filename)"
      ],
      "metadata": {
        "colab": {
          "base_uri": "https://localhost:8080/"
        },
        "id": "95vPSNVlTyWL",
        "outputId": "2ff33f1f-6018-4989-8d2e-b8627dd11cd0"
      },
      "execution_count": null,
      "outputs": [
        {
          "output_type": "execute_result",
          "data": {
            "text/plain": [
              "['tfidf_vectorizer2.sav']"
            ]
          },
          "metadata": {},
          "execution_count": 47
        }
      ]
    },
    {
      "cell_type": "code",
      "source": [
        "import joblib\n",
        "\n",
        "filename = '/content/tfidf_vectorizer2.sav'\n",
        "tfid = joblib.load(filename)"
      ],
      "metadata": {
        "id": "Ax9AMFcbT6Li"
      },
      "execution_count": null,
      "outputs": []
    },
    {
      "cell_type": "code",
      "source": [
        "\n",
        "filename = 'recommender2.sav'\n",
        "model = joblib.load(filename)"
      ],
      "metadata": {
        "id": "dqghc6MK2IC4"
      },
      "execution_count": null,
      "outputs": []
    },
    {
      "cell_type": "code",
      "source": [
        "a = [\"aqua\",\n",
        "        \"glycerin\",\n",
        "        \"cocamidopropyl betaine\",\n",
        "        \"sodium lauroyl glutamate\",\n",
        "        \"parfum\",\n",
        "        \"acrylates/​c10-30 alkyl acrylate crosspolymer\",\n",
        "        \"caprylyl glycol\",\n",
        "        \"sodium benzoate\",\n",
        "        \"sodium methyl lauroyl taurate\",\n",
        "        \"glycol distearate\",\n",
        "        \"stearic acid\",\n",
        "        \"palmitic acid\",\n",
        "        \"citric acid\",\n",
        "        \"sodium hydroxide\",\n",
        "        \"tetrasodium edta\",\n",
        "        \"glycerin\",\n",
        "        \"citric acid\",\n",
        "        \"sodium hydroxide\",\n",
        "        \"tetrasodium edta\",\n",
        "        \"caprylyl glycol\",\n",
        "        \"glycol distearate\",\n",
        "        \"stearic acid\",\n",
        "        \"palmitic acid\",\n",
        "        \"glycol distearate\",\n",
        "        \"palmitic acid\",\n",
        "        \"glycerin\",\n",
        "        \"caprylyl glycol\",\n",
        "        \"parfum\",\n",
        "        \"sodium benzoate\",\n",
        "        \"palmitic acid\",\n",
        "        \"aqua\",\n",
        "        \"cocamidopropyl betaine\",\n",
        "        \"sodium lauroyl glutamate\",\n",
        "        \"sodium methyl lauroyl taurate\",\n",
        "        \"cocamidopropyl betaine\",\n",
        "        \"acrylates/​c10-30 alkyl acrylate crosspolymer\",\n",
        "        \"glycol distearate\",\n",
        "        \"stearic acid\"]"
      ],
      "metadata": {
        "id": "Oczve7df-QPI"
      },
      "execution_count": null,
      "outputs": []
    },
    {
      "cell_type": "code",
      "source": [
        "\"; \".join(a)"
      ],
      "metadata": {
        "colab": {
          "base_uri": "https://localhost:8080/",
          "height": 139
        },
        "id": "DUV2sLa6-TNb",
        "outputId": "218db4fe-1f45-4076-c8c5-fb884f123286"
      },
      "execution_count": null,
      "outputs": [
        {
          "output_type": "execute_result",
          "data": {
            "text/plain": [
              "'aqua; glycerin; cocamidopropyl betaine; sodium lauroyl glutamate; parfum; acrylates/\\u200bc10-30 alkyl acrylate crosspolymer; caprylyl glycol; sodium benzoate; sodium methyl lauroyl taurate; glycol distearate; stearic acid; palmitic acid; citric acid; sodium hydroxide; tetrasodium edta; glycerin; citric acid; sodium hydroxide; tetrasodium edta; caprylyl glycol; glycol distearate; stearic acid; palmitic acid; glycol distearate; palmitic acid; glycerin; caprylyl glycol; parfum; sodium benzoate; palmitic acid; aqua; cocamidopropyl betaine; sodium lauroyl glutamate; sodium methyl lauroyl taurate; cocamidopropyl betaine; acrylates/\\u200bc10-30 alkyl acrylate crosspolymer; glycol distearate; stearic acid'"
            ],
            "application/vnd.google.colaboratory.intrinsic+json": {
              "type": "string"
            }
          },
          "metadata": {},
          "execution_count": 5
        }
      ]
    },
    {
      "cell_type": "code",
      "source": [],
      "metadata": {
        "id": "xjxswLKP-Wp2"
      },
      "execution_count": null,
      "outputs": []
    }
  ],
  "metadata": {
    "colab": {
      "provenance": []
    },
    "kernelspec": {
      "display_name": "Python 3",
      "name": "python3"
    }
  },
  "nbformat": 4,
  "nbformat_minor": 0
}